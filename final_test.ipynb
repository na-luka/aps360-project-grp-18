{
  "nbformat": 4,
  "nbformat_minor": 0,
  "metadata": {
    "colab": {
      "name": "Copy of Copy of VideoDemonstration.ipynb",
      "provenance": [],
      "collapsed_sections": []
    },
    "kernelspec": {
      "name": "python3",
      "display_name": "Python 3"
    },
    "widgets": {
      "application/vnd.jupyter.widget-state+json": {
        "5445df2468ee40e8ac880a3b6ffdbc8d": {
          "model_module": "@jupyter-widgets/controls",
          "model_name": "HBoxModel",
          "state": {
            "_view_name": "HBoxView",
            "_dom_classes": [],
            "_model_name": "HBoxModel",
            "_view_module": "@jupyter-widgets/controls",
            "_model_module_version": "1.5.0",
            "_view_count": null,
            "_view_module_version": "1.5.0",
            "box_style": "",
            "layout": "IPY_MODEL_4e6744fc7ba64ba087a1fc80a903fdee",
            "_model_module": "@jupyter-widgets/controls",
            "children": [
              "IPY_MODEL_5c4a311920f04804a175201ed38aad28",
              "IPY_MODEL_8105f9dd122a4e948bf044038ed6c7d1"
            ]
          }
        },
        "4e6744fc7ba64ba087a1fc80a903fdee": {
          "model_module": "@jupyter-widgets/base",
          "model_name": "LayoutModel",
          "state": {
            "_view_name": "LayoutView",
            "grid_template_rows": null,
            "right": null,
            "justify_content": null,
            "_view_module": "@jupyter-widgets/base",
            "overflow": null,
            "_model_module_version": "1.2.0",
            "_view_count": null,
            "flex_flow": null,
            "width": null,
            "min_width": null,
            "border": null,
            "align_items": null,
            "bottom": null,
            "_model_module": "@jupyter-widgets/base",
            "top": null,
            "grid_column": null,
            "overflow_y": null,
            "overflow_x": null,
            "grid_auto_flow": null,
            "grid_area": null,
            "grid_template_columns": null,
            "flex": null,
            "_model_name": "LayoutModel",
            "justify_items": null,
            "grid_row": null,
            "max_height": null,
            "align_content": null,
            "visibility": null,
            "align_self": null,
            "height": null,
            "min_height": null,
            "padding": null,
            "grid_auto_rows": null,
            "grid_gap": null,
            "max_width": null,
            "order": null,
            "_view_module_version": "1.2.0",
            "grid_template_areas": null,
            "object_position": null,
            "object_fit": null,
            "grid_auto_columns": null,
            "margin": null,
            "display": null,
            "left": null
          }
        },
        "5c4a311920f04804a175201ed38aad28": {
          "model_module": "@jupyter-widgets/controls",
          "model_name": "FloatProgressModel",
          "state": {
            "_view_name": "ProgressView",
            "style": "IPY_MODEL_b0429f915eb74494bec1f150f7f85d6d",
            "_dom_classes": [],
            "description": "100%",
            "_model_name": "FloatProgressModel",
            "bar_style": "success",
            "max": 244418560,
            "_view_module": "@jupyter-widgets/controls",
            "_model_module_version": "1.5.0",
            "value": 244418560,
            "_view_count": null,
            "_view_module_version": "1.5.0",
            "orientation": "horizontal",
            "min": 0,
            "description_tooltip": null,
            "_model_module": "@jupyter-widgets/controls",
            "layout": "IPY_MODEL_533088c8d8064bde9f4c6210844bf893"
          }
        },
        "8105f9dd122a4e948bf044038ed6c7d1": {
          "model_module": "@jupyter-widgets/controls",
          "model_name": "HTMLModel",
          "state": {
            "_view_name": "HTMLView",
            "style": "IPY_MODEL_ec1589c283c64e6fa90b905ac669c023",
            "_dom_classes": [],
            "description": "",
            "_model_name": "HTMLModel",
            "placeholder": "​",
            "_view_module": "@jupyter-widgets/controls",
            "_model_module_version": "1.5.0",
            "value": " 233M/233M [06:25&lt;00:00, 634kB/s]",
            "_view_count": null,
            "_view_module_version": "1.5.0",
            "description_tooltip": null,
            "_model_module": "@jupyter-widgets/controls",
            "layout": "IPY_MODEL_344c8c4c163e4764a9339112cce5a434"
          }
        },
        "b0429f915eb74494bec1f150f7f85d6d": {
          "model_module": "@jupyter-widgets/controls",
          "model_name": "ProgressStyleModel",
          "state": {
            "_view_name": "StyleView",
            "_model_name": "ProgressStyleModel",
            "description_width": "initial",
            "_view_module": "@jupyter-widgets/base",
            "_model_module_version": "1.5.0",
            "_view_count": null,
            "_view_module_version": "1.2.0",
            "bar_color": null,
            "_model_module": "@jupyter-widgets/controls"
          }
        },
        "533088c8d8064bde9f4c6210844bf893": {
          "model_module": "@jupyter-widgets/base",
          "model_name": "LayoutModel",
          "state": {
            "_view_name": "LayoutView",
            "grid_template_rows": null,
            "right": null,
            "justify_content": null,
            "_view_module": "@jupyter-widgets/base",
            "overflow": null,
            "_model_module_version": "1.2.0",
            "_view_count": null,
            "flex_flow": null,
            "width": null,
            "min_width": null,
            "border": null,
            "align_items": null,
            "bottom": null,
            "_model_module": "@jupyter-widgets/base",
            "top": null,
            "grid_column": null,
            "overflow_y": null,
            "overflow_x": null,
            "grid_auto_flow": null,
            "grid_area": null,
            "grid_template_columns": null,
            "flex": null,
            "_model_name": "LayoutModel",
            "justify_items": null,
            "grid_row": null,
            "max_height": null,
            "align_content": null,
            "visibility": null,
            "align_self": null,
            "height": null,
            "min_height": null,
            "padding": null,
            "grid_auto_rows": null,
            "grid_gap": null,
            "max_width": null,
            "order": null,
            "_view_module_version": "1.2.0",
            "grid_template_areas": null,
            "object_position": null,
            "object_fit": null,
            "grid_auto_columns": null,
            "margin": null,
            "display": null,
            "left": null
          }
        },
        "ec1589c283c64e6fa90b905ac669c023": {
          "model_module": "@jupyter-widgets/controls",
          "model_name": "DescriptionStyleModel",
          "state": {
            "_view_name": "StyleView",
            "_model_name": "DescriptionStyleModel",
            "description_width": "",
            "_view_module": "@jupyter-widgets/base",
            "_model_module_version": "1.5.0",
            "_view_count": null,
            "_view_module_version": "1.2.0",
            "_model_module": "@jupyter-widgets/controls"
          }
        },
        "344c8c4c163e4764a9339112cce5a434": {
          "model_module": "@jupyter-widgets/base",
          "model_name": "LayoutModel",
          "state": {
            "_view_name": "LayoutView",
            "grid_template_rows": null,
            "right": null,
            "justify_content": null,
            "_view_module": "@jupyter-widgets/base",
            "overflow": null,
            "_model_module_version": "1.2.0",
            "_view_count": null,
            "flex_flow": null,
            "width": null,
            "min_width": null,
            "border": null,
            "align_items": null,
            "bottom": null,
            "_model_module": "@jupyter-widgets/base",
            "top": null,
            "grid_column": null,
            "overflow_y": null,
            "overflow_x": null,
            "grid_auto_flow": null,
            "grid_area": null,
            "grid_template_columns": null,
            "flex": null,
            "_model_name": "LayoutModel",
            "justify_items": null,
            "grid_row": null,
            "max_height": null,
            "align_content": null,
            "visibility": null,
            "align_self": null,
            "height": null,
            "min_height": null,
            "padding": null,
            "grid_auto_rows": null,
            "grid_gap": null,
            "max_width": null,
            "order": null,
            "_view_module_version": "1.2.0",
            "grid_template_areas": null,
            "object_position": null,
            "object_fit": null,
            "grid_auto_columns": null,
            "margin": null,
            "display": null,
            "left": null
          }
        }
      }
    }
  },
  "cells": [
    {
      "cell_type": "code",
      "metadata": {
        "id": "hlZUQE4xeNj8",
        "colab_type": "code",
        "colab": {
          "resources": {
            "http://localhost:8080/nbextensions/google.colab/files.js": {
              "data": "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",
              "ok": true,
              "headers": [
                [
                  "content-type",
                  "application/javascript"
                ]
              ],
              "status": 200,
              "status_text": ""
            }
          },
          "base_uri": "https://localhost:8080/",
          "height": 143
        },
        "outputId": "c7299bfb-1a1a-40a2-ada2-c2121d72e697"
      },
      "source": [
        "! pip install -q kaggle\n",
        "from google.colab import files\n",
        "files.upload()\n",
        "\n",
        "from google.colab import drive\n",
        "drive.mount('/content/drive')"
      ],
      "execution_count": null,
      "outputs": [
        {
          "output_type": "display_data",
          "data": {
            "text/html": [
              "\n",
              "     <input type=\"file\" id=\"files-77b20eb9-aa5c-4cfe-91aa-3c34abd920f5\" name=\"files[]\" multiple disabled\n",
              "        style=\"border:none\" />\n",
              "     <output id=\"result-77b20eb9-aa5c-4cfe-91aa-3c34abd920f5\">\n",
              "      Upload widget is only available when the cell has been executed in the\n",
              "      current browser session. Please rerun this cell to enable.\n",
              "      </output>\n",
              "      <script src=\"/nbextensions/google.colab/files.js\"></script> "
            ],
            "text/plain": [
              "<IPython.core.display.HTML object>"
            ]
          },
          "metadata": {
            "tags": []
          }
        },
        {
          "output_type": "stream",
          "text": [
            "Go to this URL in a browser: https://accounts.google.com/o/oauth2/auth?client_id=947318989803-6bn6qk8qdgf4n4g3pfee6491hc0brc4i.apps.googleusercontent.com&redirect_uri=urn%3aietf%3awg%3aoauth%3a2.0%3aoob&response_type=code&scope=email%20https%3a%2f%2fwww.googleapis.com%2fauth%2fdocs.test%20https%3a%2f%2fwww.googleapis.com%2fauth%2fdrive%20https%3a%2f%2fwww.googleapis.com%2fauth%2fdrive.photos.readonly%20https%3a%2f%2fwww.googleapis.com%2fauth%2fpeopleapi.readonly\n",
            "\n",
            "Enter your authorization code:\n",
            "··········\n",
            "Mounted at /content/drive\n"
          ],
          "name": "stdout"
        }
      ]
    },
    {
      "cell_type": "code",
      "metadata": {
        "id": "ahYZ8us3Qusv",
        "colab_type": "code",
        "colab": {
          "base_uri": "https://localhost:8080/",
          "height": 251
        },
        "outputId": "8433c4b1-6056-457a-96b3-83cff65f600c"
      },
      "source": [
        "! mkdir ~/.kaggle\n",
        "! cp kaggle.json ~/.kaggle/\n",
        "! chmod 600 ~/.kaggle/kaggle.json\n",
        "\n",
        "! kaggle datasets download --unzip lantian773030/pokemonclassification\n",
        "! mkdir pokemonDataSplit\n",
        "! pip install split-folders"
      ],
      "execution_count": null,
      "outputs": [
        {
          "output_type": "stream",
          "text": [
            "cp: cannot stat 'kaggle.json': No such file or directory\n",
            "chmod: cannot access '/root/.kaggle/kaggle.json': No such file or directory\n",
            "Traceback (most recent call last):\n",
            "  File \"/usr/local/bin/kaggle\", line 5, in <module>\n",
            "    from kaggle.cli import main\n",
            "  File \"/usr/local/lib/python2.7/dist-packages/kaggle/__init__.py\", line 23, in <module>\n",
            "    api.authenticate()\n",
            "  File \"/usr/local/lib/python2.7/dist-packages/kaggle/api/kaggle_api_extended.py\", line 146, in authenticate\n",
            "    self.config_file, self.config_dir))\n",
            "IOError: Could not find kaggle.json. Make sure it's located in /root/.kaggle. Or use the environment method.\n",
            "Collecting split-folders\n",
            "  Downloading https://files.pythonhosted.org/packages/20/67/29dda743e6d23ac1ea3d16704d8bbb48d65faf3f1b1eaf53153b3da56c56/split_folders-0.3.1-py3-none-any.whl\n",
            "Installing collected packages: split-folders\n",
            "Successfully installed split-folders-0.3.1\n"
          ],
          "name": "stdout"
        }
      ]
    },
    {
      "cell_type": "code",
      "metadata": {
        "id": "7JLaYQIcTCmj",
        "colab_type": "code",
        "colab": {
          "base_uri": "https://localhost:8080/",
          "height": 369
        },
        "outputId": "f84ebb01-f581-4468-bc77-59a05b6647ae"
      },
      "source": [
        "!rm -r pokemonDataSplit\n",
        "!mkdir pokemonDataSplit\n",
        "!pip install split-folders\n",
        "import split_folders\n",
        "split_folders.ratio('/content/PokemonData', output='/content/pokemonDataSplit',seed=8205, ratio=(0.9, 0.09, 0.01))"
      ],
      "execution_count": null,
      "outputs": [
        {
          "output_type": "stream",
          "text": [
            "Requirement already satisfied: split-folders in /usr/local/lib/python3.6/dist-packages (0.3.1)\n"
          ],
          "name": "stdout"
        },
        {
          "output_type": "stream",
          "text": [
            "\rCopying files: 0 files [00:00, ? files/s]"
          ],
          "name": "stderr"
        },
        {
          "output_type": "error",
          "ename": "FileNotFoundError",
          "evalue": "ignored",
          "traceback": [
            "\u001b[0;31m---------------------------------------------------------------------------\u001b[0m",
            "\u001b[0;31mFileNotFoundError\u001b[0m                         Traceback (most recent call last)",
            "\u001b[0;32m<ipython-input-3-49a7f19637d5>\u001b[0m in \u001b[0;36m<module>\u001b[0;34m()\u001b[0m\n\u001b[1;32m      3\u001b[0m \u001b[0mget_ipython\u001b[0m\u001b[0;34m(\u001b[0m\u001b[0;34m)\u001b[0m\u001b[0;34m.\u001b[0m\u001b[0msystem\u001b[0m\u001b[0;34m(\u001b[0m\u001b[0;34m'pip install split-folders'\u001b[0m\u001b[0;34m)\u001b[0m\u001b[0;34m\u001b[0m\u001b[0;34m\u001b[0m\u001b[0m\n\u001b[1;32m      4\u001b[0m \u001b[0;32mimport\u001b[0m \u001b[0msplit_folders\u001b[0m\u001b[0;34m\u001b[0m\u001b[0;34m\u001b[0m\u001b[0m\n\u001b[0;32m----> 5\u001b[0;31m \u001b[0msplit_folders\u001b[0m\u001b[0;34m.\u001b[0m\u001b[0mratio\u001b[0m\u001b[0;34m(\u001b[0m\u001b[0;34m'/content/PokemonData'\u001b[0m\u001b[0;34m,\u001b[0m \u001b[0moutput\u001b[0m\u001b[0;34m=\u001b[0m\u001b[0;34m'/content/pokemonDataSplit'\u001b[0m\u001b[0;34m,\u001b[0m\u001b[0mseed\u001b[0m\u001b[0;34m=\u001b[0m\u001b[0;36m8205\u001b[0m\u001b[0;34m,\u001b[0m \u001b[0mratio\u001b[0m\u001b[0;34m=\u001b[0m\u001b[0;34m(\u001b[0m\u001b[0;36m0.9\u001b[0m\u001b[0;34m,\u001b[0m \u001b[0;36m0.09\u001b[0m\u001b[0;34m,\u001b[0m \u001b[0;36m0.01\u001b[0m\u001b[0;34m)\u001b[0m\u001b[0;34m)\u001b[0m\u001b[0;34m\u001b[0m\u001b[0;34m\u001b[0m\u001b[0m\n\u001b[0m",
            "\u001b[0;32m/usr/local/lib/python3.6/dist-packages/split_folders/split.py\u001b[0m in \u001b[0;36mratio\u001b[0;34m(input, output, seed, ratio)\u001b[0m\n\u001b[1;32m     70\u001b[0m         \u001b[0mprog_bar\u001b[0m \u001b[0;34m=\u001b[0m \u001b[0mtqdm\u001b[0m\u001b[0;34m(\u001b[0m\u001b[0mdesc\u001b[0m\u001b[0;34m=\u001b[0m\u001b[0;34mf\"Copying files\"\u001b[0m\u001b[0;34m,\u001b[0m \u001b[0munit\u001b[0m\u001b[0;34m=\u001b[0m\u001b[0;34m\" files\"\u001b[0m\u001b[0;34m)\u001b[0m\u001b[0;34m\u001b[0m\u001b[0;34m\u001b[0m\u001b[0m\n\u001b[1;32m     71\u001b[0m \u001b[0;34m\u001b[0m\u001b[0m\n\u001b[0;32m---> 72\u001b[0;31m     \u001b[0;32mfor\u001b[0m \u001b[0mclass_dir\u001b[0m \u001b[0;32min\u001b[0m \u001b[0mlist_dirs\u001b[0m\u001b[0;34m(\u001b[0m\u001b[0minput\u001b[0m\u001b[0;34m)\u001b[0m\u001b[0;34m:\u001b[0m\u001b[0;34m\u001b[0m\u001b[0;34m\u001b[0m\u001b[0m\n\u001b[0m\u001b[1;32m     73\u001b[0m         split_class_dir_ratio(\n\u001b[1;32m     74\u001b[0m             \u001b[0mclass_dir\u001b[0m\u001b[0;34m,\u001b[0m \u001b[0moutput\u001b[0m\u001b[0;34m,\u001b[0m \u001b[0mratio\u001b[0m\u001b[0;34m,\u001b[0m \u001b[0mseed\u001b[0m\u001b[0;34m,\u001b[0m \u001b[0mprog_bar\u001b[0m \u001b[0;32mif\u001b[0m \u001b[0mtqdm_is_installed\u001b[0m \u001b[0;32melse\u001b[0m \u001b[0;32mNone\u001b[0m\u001b[0;34m\u001b[0m\u001b[0;34m\u001b[0m\u001b[0m\n",
            "\u001b[0;32m/usr/local/lib/python3.6/dist-packages/split_folders/split.py\u001b[0m in \u001b[0;36mlist_dirs\u001b[0;34m(directory)\u001b[0m\n\u001b[1;32m     49\u001b[0m     \"\"\"Returns all directories in a given directory\n\u001b[1;32m     50\u001b[0m     \"\"\"\n\u001b[0;32m---> 51\u001b[0;31m     \u001b[0;32mreturn\u001b[0m \u001b[0;34m[\u001b[0m\u001b[0mf\u001b[0m \u001b[0;32mfor\u001b[0m \u001b[0mf\u001b[0m \u001b[0;32min\u001b[0m \u001b[0mpathlib\u001b[0m\u001b[0;34m.\u001b[0m\u001b[0mPath\u001b[0m\u001b[0;34m(\u001b[0m\u001b[0mdirectory\u001b[0m\u001b[0;34m)\u001b[0m\u001b[0;34m.\u001b[0m\u001b[0miterdir\u001b[0m\u001b[0;34m(\u001b[0m\u001b[0;34m)\u001b[0m \u001b[0;32mif\u001b[0m \u001b[0mf\u001b[0m\u001b[0;34m.\u001b[0m\u001b[0mis_dir\u001b[0m\u001b[0;34m(\u001b[0m\u001b[0;34m)\u001b[0m\u001b[0;34m]\u001b[0m\u001b[0;34m\u001b[0m\u001b[0;34m\u001b[0m\u001b[0m\n\u001b[0m\u001b[1;32m     52\u001b[0m \u001b[0;34m\u001b[0m\u001b[0m\n\u001b[1;32m     53\u001b[0m \u001b[0;34m\u001b[0m\u001b[0m\n",
            "\u001b[0;32m/usr/local/lib/python3.6/dist-packages/split_folders/split.py\u001b[0m in \u001b[0;36m<listcomp>\u001b[0;34m(.0)\u001b[0m\n\u001b[1;32m     49\u001b[0m     \"\"\"Returns all directories in a given directory\n\u001b[1;32m     50\u001b[0m     \"\"\"\n\u001b[0;32m---> 51\u001b[0;31m     \u001b[0;32mreturn\u001b[0m \u001b[0;34m[\u001b[0m\u001b[0mf\u001b[0m \u001b[0;32mfor\u001b[0m \u001b[0mf\u001b[0m \u001b[0;32min\u001b[0m \u001b[0mpathlib\u001b[0m\u001b[0;34m.\u001b[0m\u001b[0mPath\u001b[0m\u001b[0;34m(\u001b[0m\u001b[0mdirectory\u001b[0m\u001b[0;34m)\u001b[0m\u001b[0;34m.\u001b[0m\u001b[0miterdir\u001b[0m\u001b[0;34m(\u001b[0m\u001b[0;34m)\u001b[0m \u001b[0;32mif\u001b[0m \u001b[0mf\u001b[0m\u001b[0;34m.\u001b[0m\u001b[0mis_dir\u001b[0m\u001b[0;34m(\u001b[0m\u001b[0;34m)\u001b[0m\u001b[0;34m]\u001b[0m\u001b[0;34m\u001b[0m\u001b[0;34m\u001b[0m\u001b[0m\n\u001b[0m\u001b[1;32m     52\u001b[0m \u001b[0;34m\u001b[0m\u001b[0m\n\u001b[1;32m     53\u001b[0m \u001b[0;34m\u001b[0m\u001b[0m\n",
            "\u001b[0;32m/usr/lib/python3.6/pathlib.py\u001b[0m in \u001b[0;36miterdir\u001b[0;34m(self)\u001b[0m\n\u001b[1;32m   1079\u001b[0m         \u001b[0;32mif\u001b[0m \u001b[0mself\u001b[0m\u001b[0;34m.\u001b[0m\u001b[0m_closed\u001b[0m\u001b[0;34m:\u001b[0m\u001b[0;34m\u001b[0m\u001b[0;34m\u001b[0m\u001b[0m\n\u001b[1;32m   1080\u001b[0m             \u001b[0mself\u001b[0m\u001b[0;34m.\u001b[0m\u001b[0m_raise_closed\u001b[0m\u001b[0;34m(\u001b[0m\u001b[0;34m)\u001b[0m\u001b[0;34m\u001b[0m\u001b[0;34m\u001b[0m\u001b[0m\n\u001b[0;32m-> 1081\u001b[0;31m         \u001b[0;32mfor\u001b[0m \u001b[0mname\u001b[0m \u001b[0;32min\u001b[0m \u001b[0mself\u001b[0m\u001b[0;34m.\u001b[0m\u001b[0m_accessor\u001b[0m\u001b[0;34m.\u001b[0m\u001b[0mlistdir\u001b[0m\u001b[0;34m(\u001b[0m\u001b[0mself\u001b[0m\u001b[0;34m)\u001b[0m\u001b[0;34m:\u001b[0m\u001b[0;34m\u001b[0m\u001b[0;34m\u001b[0m\u001b[0m\n\u001b[0m\u001b[1;32m   1082\u001b[0m             \u001b[0;32mif\u001b[0m \u001b[0mname\u001b[0m \u001b[0;32min\u001b[0m \u001b[0;34m{\u001b[0m\u001b[0;34m'.'\u001b[0m\u001b[0;34m,\u001b[0m \u001b[0;34m'..'\u001b[0m\u001b[0;34m}\u001b[0m\u001b[0;34m:\u001b[0m\u001b[0;34m\u001b[0m\u001b[0;34m\u001b[0m\u001b[0m\n\u001b[1;32m   1083\u001b[0m                 \u001b[0;31m# Yielding a path object for these makes little sense\u001b[0m\u001b[0;34m\u001b[0m\u001b[0;34m\u001b[0m\u001b[0;34m\u001b[0m\u001b[0m\n",
            "\u001b[0;32m/usr/lib/python3.6/pathlib.py\u001b[0m in \u001b[0;36mwrapped\u001b[0;34m(pathobj, *args)\u001b[0m\n\u001b[1;32m    385\u001b[0m         \u001b[0;34m@\u001b[0m\u001b[0mfunctools\u001b[0m\u001b[0;34m.\u001b[0m\u001b[0mwraps\u001b[0m\u001b[0;34m(\u001b[0m\u001b[0mstrfunc\u001b[0m\u001b[0;34m)\u001b[0m\u001b[0;34m\u001b[0m\u001b[0;34m\u001b[0m\u001b[0m\n\u001b[1;32m    386\u001b[0m         \u001b[0;32mdef\u001b[0m \u001b[0mwrapped\u001b[0m\u001b[0;34m(\u001b[0m\u001b[0mpathobj\u001b[0m\u001b[0;34m,\u001b[0m \u001b[0;34m*\u001b[0m\u001b[0margs\u001b[0m\u001b[0;34m)\u001b[0m\u001b[0;34m:\u001b[0m\u001b[0;34m\u001b[0m\u001b[0;34m\u001b[0m\u001b[0m\n\u001b[0;32m--> 387\u001b[0;31m             \u001b[0;32mreturn\u001b[0m \u001b[0mstrfunc\u001b[0m\u001b[0;34m(\u001b[0m\u001b[0mstr\u001b[0m\u001b[0;34m(\u001b[0m\u001b[0mpathobj\u001b[0m\u001b[0;34m)\u001b[0m\u001b[0;34m,\u001b[0m \u001b[0;34m*\u001b[0m\u001b[0margs\u001b[0m\u001b[0;34m)\u001b[0m\u001b[0;34m\u001b[0m\u001b[0;34m\u001b[0m\u001b[0m\n\u001b[0m\u001b[1;32m    388\u001b[0m         \u001b[0;32mreturn\u001b[0m \u001b[0mstaticmethod\u001b[0m\u001b[0;34m(\u001b[0m\u001b[0mwrapped\u001b[0m\u001b[0;34m)\u001b[0m\u001b[0;34m\u001b[0m\u001b[0;34m\u001b[0m\u001b[0m\n\u001b[1;32m    389\u001b[0m \u001b[0;34m\u001b[0m\u001b[0m\n",
            "\u001b[0;31mFileNotFoundError\u001b[0m: [Errno 2] No such file or directory: '/content/PokemonData'"
          ]
        }
      ]
    },
    {
      "cell_type": "code",
      "metadata": {
        "id": "gQvP0n6Yw5jo",
        "colab_type": "code",
        "colab": {}
      },
      "source": [
        "!unzip '/content/drive/My Drive/Colab Notebooks/APS360/new pokemon dataset.zip' -d '/root/dataset'"
      ],
      "execution_count": null,
      "outputs": []
    },
    {
      "cell_type": "code",
      "metadata": {
        "id": "RbUFZxV8w-0N",
        "colab_type": "code",
        "colab": {
          "base_uri": "https://localhost:8080/",
          "height": 401
        },
        "outputId": "9233b641-4f0f-4433-dd23-d821f20d0c76"
      },
      "source": [
        "!pip install split-folders\n",
        "import split_folders\n",
        "split_folders.ratio('/root/dataset/PokemonData', output='/root/dataset/PokemonData',seed=1337, ratio=(0.8, 0.1, 0.1))"
      ],
      "execution_count": null,
      "outputs": [
        {
          "output_type": "stream",
          "text": [
            "Requirement already satisfied: split-folders in /usr/local/lib/python3.6/dist-packages (0.3.1)\n"
          ],
          "name": "stdout"
        },
        {
          "output_type": "stream",
          "text": [
            "\n",
            "Copying files: 0 files [00:00, ? files/s]\u001b[A\n",
            "Copying files: 353 files [00:00, 3526.37 files/s]\u001b[A\n",
            "Copying files: 813 files [00:00, 3791.67 files/s]\u001b[A\n",
            "Copying files: 1231 files [00:00, 3879.94 files/s]\u001b[A\n",
            "Copying files: 1503 files [00:00, 3240.78 files/s]\u001b[A\n",
            "Copying files: 1928 files [00:00, 3488.41 files/s]\u001b[A\n",
            "Copying files: 2238 files [00:00, 3312.69 files/s]\u001b[A\n",
            "Copying files: 2544 files [00:00, 2374.45 files/s]\u001b[A\n",
            "Copying files: 2801 files [00:01, 2028.50 files/s]\u001b[A\n",
            "Copying files: 3066 files [00:01, 2175.15 files/s]\u001b[A\n",
            "Copying files: 3341 files [00:01, 2320.18 files/s]\u001b[A\n",
            "Copying files: 3670 files [00:01, 2544.82 files/s]\u001b[A\n",
            "Copying files: 4054 files [00:01, 2828.22 files/s]\u001b[A\n",
            "Copying files: 4360 files [00:01, 2259.53 files/s]\u001b[A\n",
            "Copying files: 4666 files [00:01, 2450.60 files/s]\u001b[A\n",
            "Copying files: 4940 files [00:01, 2494.54 files/s]\u001b[A\n",
            "Copying files: 5210 files [00:01, 2482.89 files/s]\u001b[A\n",
            "Copying files: 5473 files [00:02, 2518.04 files/s]\u001b[A\n",
            "Copying files: 5803 files [00:02, 2704.17 files/s]\u001b[A\n",
            "Copying files: 6159 files [00:02, 2913.28 files/s]\u001b[A\n",
            "Copying files: 6837 files [00:02, 2843.66 files/s]\n"
          ],
          "name": "stderr"
        }
      ]
    },
    {
      "cell_type": "code",
      "metadata": {
        "id": "Glbf3nrBQy2O",
        "colab_type": "code",
        "colab": {
          "base_uri": "https://localhost:8080/",
          "height": 82,
          "referenced_widgets": [
            "5445df2468ee40e8ac880a3b6ffdbc8d",
            "4e6744fc7ba64ba087a1fc80a903fdee",
            "5c4a311920f04804a175201ed38aad28",
            "8105f9dd122a4e948bf044038ed6c7d1",
            "b0429f915eb74494bec1f150f7f85d6d",
            "533088c8d8064bde9f4c6210844bf893",
            "ec1589c283c64e6fa90b905ac669c023",
            "344c8c4c163e4764a9339112cce5a434"
          ]
        },
        "outputId": "25ecd71a-16b4-49a2-944f-a50b519065fa"
      },
      "source": [
        "import torch\n",
        "import torch.nn as nn\n",
        "import torch.nn.functional as F\n",
        "from torch.utils.data.sampler import SubsetRandomSampler\n",
        "\n",
        "import matplotlib.pyplot as plt # for plotting\n",
        "import torch.optim as optim #for gradient descent\n",
        "import numpy as np\n",
        "import time\n",
        "\n",
        "torch.manual_seed(1) # set the random seed\n",
        "\n",
        "# obtain data\n",
        "from torchvision import datasets, transforms\n",
        "\n",
        "import torchvision.models\n",
        "alexnet = torchvision.models.alexnet(pretrained=True)\n",
        "\n",
        "import os"
      ],
      "execution_count": null,
      "outputs": [
        {
          "output_type": "stream",
          "text": [
            "Downloading: \"https://download.pytorch.org/models/alexnet-owt-4df8aa71.pth\" to /root/.cache/torch/hub/checkpoints/alexnet-owt-4df8aa71.pth\n"
          ],
          "name": "stderr"
        },
        {
          "output_type": "display_data",
          "data": {
            "application/vnd.jupyter.widget-view+json": {
              "model_id": "5445df2468ee40e8ac880a3b6ffdbc8d",
              "version_minor": 0,
              "version_major": 2
            },
            "text/plain": [
              "HBox(children=(FloatProgress(value=0.0, max=244418560.0), HTML(value='')))"
            ]
          },
          "metadata": {
            "tags": []
          }
        },
        {
          "output_type": "stream",
          "text": [
            "\n"
          ],
          "name": "stdout"
        }
      ]
    },
    {
      "cell_type": "code",
      "metadata": {
        "id": "Yg3-RuVFeA0y",
        "colab_type": "code",
        "colab": {
          "base_uri": "https://localhost:8080/",
          "height": 33
        },
        "outputId": "2033c181-b6f7-456d-c237-91d62ccaf232"
      },
      "source": [
        "transform  = transforms.Compose([\n",
        "    transforms.Resize((224,224)),\n",
        "    transforms.ToTensor(),\n",
        "    transforms.Normalize((0.5, 0.5, 0.5), (0.5, 0.5, 0.5))])\n",
        "\n",
        "# train_path = 'PokemonData'\n",
        "# datas = datasets.ImageFolder(train_path, transform)\n",
        "\n",
        "classes = []\n",
        "for root, dirs, files in os.walk(\"/root/dataset/PokemonData/test\"):\n",
        "    for dir in dirs:\n",
        "        classes.append(dir)\n",
        "classes.sort()\n",
        "len(classes)"
      ],
      "execution_count": null,
      "outputs": [
        {
          "output_type": "execute_result",
          "data": {
            "text/plain": [
              "150"
            ]
          },
          "metadata": {
            "tags": []
          },
          "execution_count": 10
        }
      ]
    },
    {
      "cell_type": "code",
      "metadata": {
        "id": "gbWARzSxiuuf",
        "colab_type": "code",
        "colab": {}
      },
      "source": [
        "def get_model_path(path=\"/content/drive/My Drive/Colab Notebooks/APS360\", batch_size=256, learning_rate=0.005, epoch=30):\n",
        "    path = \"{}/poke7k_bs{}_lr{}_epoch{}\".format(path,\n",
        "            batch_size, learning_rate, epoch)\n",
        "    return path\n",
        "\n",
        "model_path = get_model_path(path=\"/content/drive/My Drive/Colab Notebooks/APS360\", batch_size=256, learning_rate=0.005, epoch=30)\n",
        "\n",
        "def train(model, train_loader, val_loader, batch_size=64, num_epochs=1, learning_rate=0.01, save_data_path=\"\", weight_decay=0):\n",
        "    criterion = nn.CrossEntropyLoss()\n",
        "    optimizer = optim.SGD(model.parameters(), lr=learning_rate, momentum=0.9, weight_decay=weight_decay)\n",
        "\n",
        "    iters, losses, train_acc, val_acc = [], [], [], []\n",
        "    bss, lrs, times = [], [], []\n",
        "\n",
        "    # training\n",
        "    n = 0 # the number of iterations\n",
        "    start_epoch = 0 \n",
        "    end_epoch = num_epochs\n",
        "\n",
        "    if save_data_path != \"\":\n",
        "      save_data = torch.load(save_data_path)\n",
        "      start_epoch = save_data[\"epoch\"]+1\n",
        "      end_epoch = start_epoch + num_epochs\n",
        "      iters = save_data[\"iters\"]\n",
        "      n = iters[-1]+1\n",
        "      print(\"n = {}\".format(n))\n",
        "      losses = save_data[\"losses\"]\n",
        "      train_acc = save_data[\"train_acc\"]\n",
        "      val_acc = save_data[\"val_acc\"]\n",
        "      model.load_state_dict(save_data[\"state\"])\n",
        "      bss = save_data[\"bss\"]\n",
        "      lrs = save_data[\"lrs\"]\n",
        "      times = save_data[\"times\"]\n",
        "\n",
        "    start_time = last_time = time.time()    \n",
        "\n",
        "    for epoch in range(start_epoch, end_epoch):\n",
        "        for imgs, labels in iter(train_loader):\n",
        "              \n",
        "            #############################################\n",
        "            #To Enable GPU Usage\n",
        "            if use_cuda and torch.cuda.is_available():\n",
        "              imgs = imgs.cuda()\n",
        "              labels = labels.cuda()\n",
        "            #############################################\n",
        "\n",
        "            out = model(imgs)             # forward pass\n",
        "\n",
        "            loss = criterion(out, labels) # compute the total loss\n",
        "            loss.backward()               # backward pass (compute parameter updates)\n",
        "            optimizer.step()              # make the updates for each parameter\n",
        "            optimizer.zero_grad()         # a clean up step for PyTorch\n",
        "            \n",
        "            # save the current training information\n",
        "            iters.append(n)\n",
        "            losses.append(float(loss)/batch_size)             # compute *average* loss\n",
        "            train_acc.append(get_accuracy(model, train_loader)) # compute training accuracy \n",
        "            val_acc.append(get_accuracy(model, val_loader))   # compute validation accuracy\n",
        "            \n",
        "            n += 1\n",
        "        \n",
        "        bss.append(batch_size)                            \n",
        "        lrs.append(learning_rate)     \n",
        "        times.append(time.time()-last_time)      \n",
        "        last_time=time.time() \n",
        "        model_path = get_model_path(epoch=epoch+1,batch_size=batch_size,learning_rate=learning_rate)\n",
        "        save_data = {\"epoch\":epoch,\n",
        "                        \"iters\":iters,\n",
        "                        \"losses\":losses,\n",
        "                        \"train_acc\":train_acc,\n",
        "                        \"val_acc\":val_acc,\n",
        "                        \"times\":time.time()-start_time,\n",
        "                        \"state\":model.state_dict(),\n",
        "                        \"bss\":bss,\n",
        "                        \"lrs\":lrs,\n",
        "                        \"times\":times}\n",
        "        torch.save(save_data, model_path)\n",
        "        end_time = time.time()\n",
        "        elapsed_time = end_time - start_time\n",
        "        print(\"Epoch %d; Loss %f; Train Acc %f; Val Acc %f; Time %f;\" % (epoch+1, loss, train_acc[-1], val_acc[-1], sum(times)))\n",
        "\n",
        "    end_time = time.time()\n",
        "    elapsed_time = end_time - start_time\n",
        "\n",
        "    # plotting\n",
        "    plt.title(\"Training Curve\")\n",
        "    plt.plot(iters, losses, label=\"Train\")\n",
        "    plt.xlabel(\"Iterations\")\n",
        "    plt.ylabel(\"Loss\")\n",
        "    plt.show()\n",
        "\n",
        "    plt.title(\"Training Curve\")\n",
        "    plt.plot(iters, train_acc, label=\"Train\")\n",
        "    plt.plot(iters, val_acc, label=\"Validation\")\n",
        "    plt.xlabel(\"Iterations\")\n",
        "    plt.ylabel(\"Training Accuracy\")\n",
        "    plt.legend(loc='best')\n",
        "    plt.show()\n",
        "\n",
        "    print(\"Final Training Accuracy: {}\".format(train_acc[-1]))\n",
        "    print(\"Final Validation Accuracy: {}\".format(val_acc[-1]))\n",
        "    print(\"Total time elapsed: {:.2f} seconds\".format(sum(times)))"
      ],
      "execution_count": null,
      "outputs": []
    },
    {
      "cell_type": "code",
      "metadata": {
        "id": "JbuAGlYboVwf",
        "colab_type": "code",
        "colab": {
          "base_uri": "https://localhost:8080/",
          "height": 640
        },
        "outputId": "695081e2-17b5-4ad6-83bd-3e0514db51a9"
      },
      "source": [
        "#read model\n",
        "\n",
        "class AlexClassifier(nn.Module):\n",
        "    def __init__(self):\n",
        "        super(AlexClassifier, self).__init__()\n",
        "        self.name = \"AlexNet\"\n",
        "        self.fc1 = nn.Linear(256 * 6 * 6, 450)\n",
        "        self.fc2 = nn.Linear(450, 150)\n",
        "\n",
        "    def forward(self, x):\n",
        "        x = x.view(-1, 256 * 6 * 6) #flatten feature data\n",
        "        x = F.relu(self.fc1(x))\n",
        "        x = self.fc2(x)\n",
        "        return x\n",
        "\n",
        "model = AlexClassifier()\n",
        "train(model,0,0,256,0,0.005,model_path)"
      ],
      "execution_count": null,
      "outputs": [
        {
          "output_type": "stream",
          "text": [
            "n = 720\n"
          ],
          "name": "stdout"
        },
        {
          "output_type": "display_data",
          "data": {
            "image/png": "[encoded data removed]",
            "text/plain": [
              "<Figure size 432x288 with 1 Axes>"
            ]
          },
          "metadata": {
            "tags": [],
            "needs_background": "light"
          }
        },
        {
          "output_type": "display_data",
          "data": {
            "image/png": "[encoded data removed]",
            "text/plain": [
              "<Figure size 432x288 with 1 Axes>"
            ]
          },
          "metadata": {
            "tags": [],
            "needs_background": "light"
          }
        },
        {
          "output_type": "stream",
          "text": [
            "Final Training Accuracy: 0.998533724340176\n",
            "Final Validation Accuracy: 0.8776508972267537\n",
            "Total time elapsed: 7181.26 seconds\n"
          ],
          "name": "stdout"
        }
      ]
    },
    {
      "cell_type": "code",
      "metadata": {
        "id": "t49iCQLPvclQ",
        "colab_type": "code",
        "colab": {}
      },
      "source": [
        "import matplotlib.pyplot as plt\n",
        "import numpy as np\n",
        "\n",
        "#Take in and resize images\n",
        "#datas = datasets.ImageFolder('drive/My Drive/DemoImages',transform)\n",
        "transform  = transforms.Compose([\n",
        "    transforms.Resize((224,224)),\n",
        "    transforms.ToTensor(),\n",
        "    #transforms.Normalize((0.5, 0.5, 0.5), (0.5, 0.5, 0.5))\n",
        "    ])\n",
        "test_path = '/root/dataset/PokemonData/test/'  \n",
        "datas = datasets.ImageFolder(test_path,transform)\n",
        "#test_path = 'root/dataset/PokemonData/test'\n",
        "test_data = torch.utils.data.DataLoader(datas, batch_size=1, num_workers=1, shuffle=True)\n",
        "y_true, y_pred = [], []\n",
        "\n",
        "for img, label in test_data:\n",
        "  #show the test images\n",
        "  y_true.append(classes[label.item()])\n",
        "\n",
        "  img_test=img\n",
        "  img_test=img_test.squeeze(0)\n",
        "  img_test=img_test.numpy()\n",
        "  plt.imshow(np.transpose(img_test, (1,2,0)))\n",
        "  plt.show()\n",
        "  \n",
        "  #classify and print guesses\n",
        "  feature = alexnet.features(img)\n",
        "  feature = torch.from_numpy(feature.detach().numpy())\n",
        "  feature = feature.squeeze(0)\n",
        "\n",
        "  output = model(feature)\n",
        "  pred = output.max(1, keepdim=True)[1]\n",
        "  y_pred.append(classes[pred.item()]) \n",
        "  if label==pred: \n",
        "    print(classes[label])\n",
        "  else:  \n",
        "    print(\"correct:\"+classes[label]+\", predict:\"+classes[pred])"
      ],
      "execution_count": null,
      "outputs": []
    },
    {
      "cell_type": "code",
      "metadata": {
        "id": "IKXlds9Ihy-O",
        "colab_type": "code",
        "colab": {
          "base_uri": "https://localhost:8080/",
          "height": 1000
        },
        "outputId": "93af358a-434c-417b-d402-32768ca8fab9"
      },
      "source": [
        "print(len(y_true))\n",
        "print(y_true)\n",
        "print(y_pred)\n",
        "n = 0\n",
        "for i in range(len(y_true)):\n",
        "  if y_true[i]==y_pred[i] : n=n+1\n",
        "print(n)\n",
        "\n",
        "from sklearn.metrics import confusion_matrix\n",
        "from sklearn.metrics import classification_report\n",
        "# y_true=['pidgeotto','poliwhirl','venusaur','wigglytuff','ditto','pidgeotto','poliwhirl','venusaur','wigglytuff','ditto','a','b','c','d','e','f','g','h','i']\n",
        "# y_pred=['pidgeotto','poliwhirl','venusaur','pidgeotto','poliwhirl','venusaur','wigglytuff','ditto','wigglytuff','ditto']\n",
        "a=confusion_matrix(y_true,y_pred)\n",
        "print(classification_report(y_true, y_pred))\n"
      ],
      "execution_count": null,
      "outputs": [
        {
          "output_type": "stream",
          "text": [
            "814\n",
            "['Dragonair', 'Shellder', 'Dugtrio', 'Tangela', 'Cubone', 'Geodude', 'Primeape', 'Eevee', 'Kingler', 'Venusaur', 'Wartortle', 'Wigglytuff', 'Gloom', 'Bellsprout', 'Venonat', 'Onix', 'Beedrill', 'Kabutops', 'Squirtle', 'Bulbasaur', 'Poliwag', 'MrMime', 'Pikachu', 'Magmar', 'Meowth', 'Kabutops', 'Magnemite', 'Spearow', 'Pidgey', 'Kangaskhan', 'Flareon', 'Kakuna', 'Wigglytuff', 'Mewtwo', 'Vaporeon', 'Seaking', 'Clefable', 'Tangela', 'Nidoqueen', 'Moltres', 'Kabuto', 'Flareon', 'Venomoth', 'Farfetchd', 'Lickitung', 'Tentacruel', 'Golduck', 'Kabutops', 'Shellder', 'Charmander', 'Seel', 'Hitmonchan', 'Gyarados', 'Dodrio', 'Golem', 'Persian', 'Goldeen', 'Blastoise', 'Psyduck', 'Scyther', 'Wigglytuff', 'Sandshrew', 'Doduo', 'Charmeleon', 'Haunter', 'Hitmonchan', 'Paras', 'Koffing', 'Electrode', 'Dugtrio', 'Graveler', 'Magikarp', 'Onix', 'Pidgey', 'Ekans', 'Hitmonchan', 'Magneton', 'Clefairy', 'Golbat', 'Wartortle', 'Grimer', 'Clefairy', 'Machoke', 'Weedle', 'Weepinbell', 'Cloyster', 'Venonat', 'Kabutops', 'Slowbro', 'Magnemite', 'Dugtrio', 'Voltorb', 'Scyther', 'Lickitung', 'Ninetales', 'Staryu', 'Charmander', 'Metapod', 'Porygon', 'Slowbro', 'MrMime', 'Charmander', 'Persian', 'Goldeen', 'Drowzee', 'Growlithe', 'Snorlax', 'Seel', 'Scyther', 'Porygon', 'Tangela', 'Gengar', 'Dragonite', 'Gloom', 'Dodrio', 'Meowth', 'Beedrill', 'Dodrio', 'Squirtle', 'Pidgey', 'Alolan Sandslash', 'Weezing', 'Kakuna', 'Tangela', 'Gengar', 'Jolteon', 'Haunter', 'Golbat', 'Vileplume', 'Pikachu', 'Kakuna', 'Alakazam', 'Magneton', 'Abra', 'Magmar', 'Machop', 'Shellder', 'Weezing', 'Magikarp', 'Nidoking', 'Raichu', 'Paras', 'Hypno', 'Abra', 'Hitmonlee', 'Drowzee', 'Mankey', 'Magmar', 'Kakuna', 'Hitmonlee', 'Machamp', 'Weepinbell', 'Arcanine', 'Eevee', 'Snorlax', 'Weezing', 'Doduo', 'Zapdos', 'Hypno', 'Parasect', 'Nidorino', 'Staryu', 'Gastly', 'Cloyster', 'Gengar', 'Dewgong', 'Rapidash', 'Tangela', 'Rapidash', 'Magikarp', 'Butterfree', 'Arcanine', 'Poliwag', 'Articuno', 'Spearow', 'Hitmonchan', 'Snorlax', 'Pidgeot', 'Pidgey', 'Bellsprout', 'Magnemite', 'Vileplume', 'Hypno', 'Nidorina', 'Lickitung', 'Machop', 'Caterpie', 'Lickitung', 'Venomoth', 'Dragonair', 'Raticate', 'Spearow', 'Voltorb', 'Squirtle', 'Ivysaur', 'Wartortle', 'Mew', 'Mewtwo', 'Alolan Sandslash', 'Omastar', 'Marowak', 'Kangaskhan', 'Chansey', 'Poliwag', 'Primeape', 'Machop', 'Metapod', 'Machamp', 'Hypno', 'Alolan Sandslash', 'Gastly', 'Ponyta', 'Horsea', 'Snorlax', 'Starmie', 'Krabby', 'Geodude', 'Gastly', 'Oddish', 'Drowzee', 'Pidgeotto', 'Charizard', 'Metapod', 'Ponyta', 'Blastoise', 'Dodrio', 'Mankey', 'Arbok', 'Hitmonlee', 'Seadra', 'Victreebel', 'Dragonite', 'Shellder', 'Growlithe', 'Arbok', 'Slowpoke', 'Weezing', 'Kangaskhan', 'Growlithe', 'Pikachu', 'Mankey', 'Raticate', 'Vaporeon', 'Grimer', 'Beedrill', 'Ekans', 'Nidorino', 'Ekans', 'Poliwhirl', 'Kadabra', 'Mew', 'Cloyster', 'Exeggcute', 'Fearow', 'Farfetchd', 'Slowpoke', 'Venomoth', 'Abra', 'Nidorino', 'Seadra', 'Rhydon', 'Horsea', 'Lapras', 'Mew', 'Seaking', 'Tentacool', 'Voltorb', 'Gastly', 'Gyarados', 'Zapdos', 'Sandshrew', 'Zapdos', 'Growlithe', 'Gengar', 'Zapdos', 'Moltres', 'Aerodactyl', 'Dugtrio', 'Beedrill', 'Sandslash', 'Victreebel', 'Jigglypuff', 'Growlithe', 'Charizard', 'Muk', 'Nidorino', 'Caterpie', 'Magikarp', 'Grimer', 'Seel', 'Parasect', 'Charmeleon', 'Starmie', 'Jynx', 'Exeggcute', 'Cloyster', 'Pidgeotto', 'Ivysaur', 'Kangaskhan', 'Electabuzz', 'Nidoqueen', 'Rhydon', 'Golbat', 'Pidgey', 'Paras', 'Poliwrath', 'MrMime', 'Koffing', 'Sandslash', 'Golbat', 'Nidoking', 'Vaporeon', 'Nidorino', 'Butterfree', 'Weedle', 'Gloom', 'Seadra', 'Charmeleon', 'Primeape', 'Psyduck', 'Alolan Sandslash', 'Pidgeotto', 'Jigglypuff', 'Ekans', 'Seaking', 'Voltorb', 'Pidgeotto', 'Spearow', 'Slowpoke', 'Sandshrew', 'Magmar', 'Rapidash', 'Mew', 'Pikachu', 'Eevee', 'Caterpie', 'Dragonite', 'Exeggcute', 'Seaking', 'Ninetales', 'Snorlax', 'Dragonite', 'Onix', 'Vaporeon', 'Snorlax', 'Hitmonlee', 'Magnemite', 'Graveler', 'Clefable', 'Dewgong', 'Jigglypuff', 'Golduck', 'Clefable', 'Victreebel', 'Bulbasaur', 'Krabby', 'Electrode', 'Krabby', 'Sandslash', 'Omanyte', 'Nidorina', 'Snorlax', 'Magikarp', 'Zubat', 'Magmar', 'Rattata', 'Goldeen', 'Graveler', 'Victreebel', 'Ditto', 'Raticate', 'Dragonair', 'Gengar', 'Poliwhirl', 'Dragonair', 'Abra', 'Mankey', 'Diglett', 'Lapras', 'Mewtwo', 'Victreebel', 'Tentacool', 'Kingler', 'Nidorina', 'Kadabra', 'Chansey', 'Machamp', 'Oddish', 'Ponyta', 'Pidgeot', 'Tentacruel', 'Exeggutor', 'Kadabra', 'Seaking', 'Aerodactyl', 'Moltres', 'Jigglypuff', 'Sandslash', 'Dugtrio', 'Muk', 'Kakuna', 'Goldeen', 'Tauros', 'Flareon', 'Voltorb', 'Charmeleon', 'Vulpix', 'Poliwag', 'Hitmonchan', 'Vileplume', 'Moltres', 'Zubat', 'Machoke', 'Golbat', 'Ponyta', 'Kingler', 'Kabuto', 'Farfetchd', 'Staryu', 'Pidgeot', 'Seel', 'Venonat', 'Slowbro', 'Zubat', 'Kadabra', 'Weedle', 'Kingler', 'Persian', 'Exeggcute', 'Gloom', 'Vaporeon', 'Seaking', 'Doduo', 'Dewgong', 'Aerodactyl', 'Bulbasaur', 'Vileplume', 'Vileplume', 'Arbok', 'Meowth', 'Wartortle', 'Slowbro', 'Pinsir', 'Rapidash', 'Mankey', 'Jigglypuff', 'Bellsprout', 'Dewgong', 'Horsea', 'Horsea', 'Lapras', 'Jynx', 'Electrode', 'Poliwag', 'Charmeleon', 'Caterpie', 'Squirtle', 'Staryu', 'Jolteon', 'Jynx', 'Seadra', 'Porygon', 'Poliwrath', 'Goldeen', 'Wigglytuff', 'Jolteon', 'Diglett', 'Horsea', 'Kangaskhan', 'Primeape', 'Venonat', 'Poliwhirl', 'Rattata', 'Raticate', 'Venusaur', 'Dewgong', 'Bulbasaur', 'Omastar', 'Jolteon', 'Rhyhorn', 'Omastar', 'Nidoqueen', 'Wigglytuff', 'Raichu', 'Scyther', 'Graveler', 'Seadra', 'Pinsir', 'Cubone', 'Weezing', 'Exeggcute', 'Krabby', 'Oddish', 'Vaporeon', 'Golduck', 'Blastoise', 'Haunter', 'Vileplume', 'Fearow', 'Pinsir', 'Chansey', 'Articuno', 'Shellder', 'Weepinbell', 'Venusaur', 'Psyduck', 'Blastoise', 'Paras', 'Lickitung', 'Nidorino', 'Pikachu', 'Gengar', 'Kadabra', 'Charmander', 'Electrode', 'Grimer', 'Exeggutor', 'Gyarados', 'Krabby', 'Koffing', 'Clefairy', 'Golem', 'Bulbasaur', 'Jigglypuff', 'Gyarados', 'Victreebel', 'Dragonair', 'Slowpoke', 'Venusaur', 'Pikachu', 'Starmie', 'Hitmonlee', 'Goldeen', 'Alakazam', 'Seadra', 'Hypno', 'Seel', 'Exeggutor', 'Venusaur', 'Raichu', 'Rhyhorn', 'Ponyta', 'Pikachu', 'Squirtle', 'Rhyhorn', 'Chansey', 'Gloom', 'Farfetchd', 'Electabuzz', 'Haunter', 'Fearow', 'Metapod', 'Chansey', 'Diglett', 'Marowak', 'Fearow', 'Hitmonchan', 'Hitmonlee', 'Machamp', 'Golem', 'Ivysaur', 'Paras', 'Marowak', 'Rhyhorn', 'Nidoking', 'Kadabra', 'Tauros', 'Butterfree', 'Nidoking', 'MrMime', 'Kakuna', 'Onix', 'Clefairy', 'Nidoking', 'Kabuto', 'Voltorb', 'Shellder', 'Kingler', 'Venusaur', 'Golduck', 'Primeape', 'Tangela', 'Rattata', 'Magnemite', 'Tentacool', 'Rattata', 'Raichu', 'Omanyte', 'Tauros', 'Squirtle', 'Weedle', 'Ditto', 'Mewtwo', 'Pinsir', 'Lapras', 'Raticate', 'Tauros', 'Omanyte', 'Electrode', 'Zubat', 'Parasect', 'Psyduck', 'Ninetales', 'Poliwag', 'Arbok', 'Rapidash', 'Venonat', 'MrMime', 'Dratini', 'Muk', 'Dugtrio', 'Jynx', 'Porygon', 'Pidgeot', 'Raichu', 'Lickitung', 'Electabuzz', 'Haunter', 'Caterpie', 'Seel', 'Wigglytuff', 'Dratini', 'Dratini', 'Tentacruel', 'Electrode', 'Mankey', 'Magnemite', 'Exeggcute', 'Muk', 'Poliwrath', 'Tauros', 'Dragonite', 'Flareon', 'Rhydon', 'Moltres', 'Omanyte', 'Aerodactyl', 'Rapidash', 'Eevee', 'Paras', 'Golduck', 'Onix', 'Golem', 'Poliwrath', 'Staryu', 'Venusaur', 'Clefable', 'Kangaskhan', 'Mew', 'Tentacruel', 'Koffing', 'Fearow', 'Cloyster', 'Mew', 'Articuno', 'Persian', 'Drowzee', 'Koffing', 'Charizard', 'Kabuto', 'Kabuto', 'Tentacruel', 'Mewtwo', 'Lapras', 'Sandshrew', 'Golem', 'Clefairy', 'Gyarados', 'Mewtwo', 'Arcanine', 'Electabuzz', 'Spearow', 'Machoke', 'Venomoth', 'Arcanine', 'Primeape', 'Eevee', 'Charizard', 'Geodude', 'Rhydon', 'Starmie', 'Magneton', 'Pidgey', 'Metapod', 'Clefairy', 'Venomoth', 'Dodrio', 'Oddish', 'Tentacool', 'Venusaur', 'Venonat', 'Kabuto', 'Rhyhorn', 'Pidgeot', 'Vulpix', 'Kabutops', 'Omastar', 'Jynx', 'Machop', 'Golbat', 'Poliwhirl', 'Wartortle', 'Vulpix', 'Porygon', 'Weedle', 'Sandshrew', 'Exeggutor', 'Golduck', 'Alakazam', 'Charmander', 'Wigglytuff', 'Weepinbell', 'Krabby', 'Vulpix', 'Exeggutor', 'Magneton', 'Charmander', 'Doduo', 'Ninetales', 'Magneton', 'Farfetchd', 'Gloom', 'Machoke', 'Vaporeon', 'Omanyte', 'Omastar', 'Kingler', 'Ditto', 'Machop', 'Oddish', 'Ditto', 'Metapod', 'Grimer', 'Gyarados', 'Arcanine', 'Drowzee', 'Tentacool', 'Rhydon', 'Cubone', 'Slowbro', 'Nidoqueen', 'Weepinbell', 'Rattata', 'Starmie', 'Jynx', 'Vulpix', 'Farfetchd', 'Meowth', 'Sandslash', 'Zapdos', 'Staryu', 'Nidorina', 'Persian', 'Jolteon', 'Wartortle', 'Porygon', 'Machamp', 'Ninetales', 'Blastoise', 'Nidoking', 'Sandshrew', 'Koffing', 'Electabuzz', 'Gastly', 'Parasect', 'Alolan Sandslash', 'Poliwhirl', 'Golem', 'Alakazam', 'Flareon', 'Ivysaur', 'Butterfree', 'Articuno', 'Scyther', 'Articuno', 'Weedle', 'Venomoth', 'Machoke', 'Tentacruel', 'Dratini', 'Lapras', 'Geodude', 'Dragonite', 'Hypno', 'Nidoqueen', 'Slowbro', 'Haunter', 'Fearow', 'Tauros', 'Machamp', 'Cloyster', 'Arbok', 'Parasect', 'Nidorina', 'Raichu', 'Scyther', 'Diglett', 'Starmie', 'Bellsprout', 'Vileplume', 'Charmeleon', 'Cubone', 'Oddish', 'Nidoqueen', 'Spearow', 'Zapdos', 'Slowpoke', 'Jolteon', 'Pinsir', 'Diglett', 'Clefable', 'Scyther', 'Horsea', 'Exeggutor']\n",
            "['Dragonair', 'Shellder', 'Dugtrio', 'Tangela', 'Cubone', 'Geodude', 'Primeape', 'Dragonite', 'Kingler', 'Venusaur', 'Wartortle', 'Wigglytuff', 'Gloom', 'Bellsprout', 'Venonat', 'Onix', 'Beedrill', 'Kabutops', 'Squirtle', 'Bulbasaur', 'Poliwag', 'MrMime', 'Pikachu', 'Magmar', 'Meowth', 'Kabutops', 'Magnemite', 'Spearow', 'Pidgey', 'Kangaskhan', 'Flareon', 'Kakuna', 'Wigglytuff', 'Mewtwo', 'Vaporeon', 'Seaking', 'Clefable', 'Tangela', 'Nidoqueen', 'Moltres', 'Kabuto', 'Flareon', 'Venomoth', 'Farfetchd', 'Lickitung', 'Tentacruel', 'Golduck', 'Kabutops', 'Shellder', 'Charmander', 'Seel', 'Hitmonchan', 'Gyarados', 'Dodrio', 'Golem', 'Mankey', 'Goldeen', 'Blastoise', 'Psyduck', 'Scyther', 'Wigglytuff', 'Sandshrew', 'Doduo', 'Charmeleon', 'Haunter', 'Hitmonchan', 'Paras', 'Koffing', 'Electrode', 'Dugtrio', 'Graveler', 'Magikarp', 'Onix', 'Pidgey', 'Ekans', 'Hitmonchan', 'Magneton', 'Clefairy', 'Golbat', 'Wartortle', 'Grimer', 'Clefairy', 'Machoke', 'Weedle', 'Weepinbell', 'Cloyster', 'Venonat', 'Kabutops', 'Grimer', 'Magnemite', 'Dugtrio', 'Voltorb', 'Scyther', 'Lickitung', 'Ninetales', 'Staryu', 'Nidoking', 'Dewgong', 'Porygon', 'Slowbro', 'MrMime', 'Charmander', 'Persian', 'Goldeen', 'Drowzee', 'Growlithe', 'Snorlax', 'Seel', 'Scyther', 'Porygon', 'Tangela', 'Gengar', 'Dragonite', 'Gloom', 'Dodrio', 'Meowth', 'Beedrill', 'Dodrio', 'Squirtle', 'Pidgey', 'Alolan Sandslash', 'Weezing', 'Kakuna', 'Tangela', 'Gengar', 'Jolteon', 'Haunter', 'Golbat', 'Vileplume', 'Pikachu', 'Kakuna', 'Electabuzz', 'Magneton', 'Abra', 'Magmar', 'Machop', 'Shellder', 'Weezing', 'Magikarp', 'Nidoking', 'Raichu', 'Paras', 'Hypno', 'Abra', 'Hitmonlee', 'Drowzee', 'Mankey', 'Magmar', 'Kakuna', 'Hitmonlee', 'Machamp', 'Weepinbell', 'Arcanine', 'Eevee', 'Snorlax', 'Weezing', 'Doduo', 'Zapdos', 'Hypno', 'Parasect', 'Nidorino', 'Staryu', 'Gastly', 'Cloyster', 'Gengar', 'Dewgong', 'Rapidash', 'Tangela', 'Rapidash', 'Magikarp', 'Butterfree', 'Arcanine', 'Poliwag', 'Articuno', 'Spearow', 'Hitmonchan', 'Snorlax', 'Pidgeot', 'Pidgey', 'Bellsprout', 'Geodude', 'Vileplume', 'Hypno', 'Nidorina', 'Lickitung', 'MrMime', 'Caterpie', 'Lickitung', 'Venomoth', 'Dragonair', 'Raticate', 'Spearow', 'Voltorb', 'Squirtle', 'Ivysaur', 'Wartortle', 'Mew', 'Mewtwo', 'Alolan Sandslash', 'Omastar', 'Marowak', 'Kangaskhan', 'Chansey', 'Poliwag', 'Primeape', 'Machop', 'Metapod', 'Machamp', 'Hypno', 'Alolan Sandslash', 'Gastly', 'Ponyta', 'Horsea', 'Snorlax', 'Starmie', 'Krabby', 'Geodude', 'Gastly', 'Oddish', 'Drowzee', 'Pidgeotto', 'Charizard', 'Metapod', 'Ponyta', 'Blastoise', 'Dodrio', 'Mankey', 'Arbok', 'Hitmonlee', 'Seadra', 'Victreebel', 'Dragonite', 'Shellder', 'Growlithe', 'Arbok', 'Slowpoke', 'Weezing', 'Kangaskhan', 'Growlithe', 'Pikachu', 'Mankey', 'Raticate', 'Vaporeon', 'Grimer', 'Beedrill', 'Ekans', 'Nidorino', 'Ekans', 'Poliwhirl', 'Kadabra', 'Mew', 'Cloyster', 'Exeggcute', 'Fearow', 'Farfetchd', 'Slowpoke', 'Venomoth', 'Abra', 'Nidorino', 'Seadra', 'Rhydon', 'Horsea', 'Lapras', 'Mew', 'Seaking', 'Tentacool', 'Voltorb', 'Gastly', 'Gyarados', 'Zapdos', 'Sandshrew', 'Zapdos', 'Growlithe', 'Gengar', 'Zapdos', 'Moltres', 'Aerodactyl', 'Dugtrio', 'Beedrill', 'Sandslash', 'Victreebel', 'Jigglypuff', 'Growlithe', 'Charizard', 'Muk', 'Nidorino', 'Caterpie', 'Magikarp', 'Grimer', 'Seel', 'Parasect', 'Charmeleon', 'Starmie', 'Jynx', 'Exeggcute', 'Cloyster', 'Pidgeotto', 'Ivysaur', 'Kangaskhan', 'Electabuzz', 'Nidoqueen', 'Rhydon', 'Mewtwo', 'Pidgey', 'Paras', 'Poliwrath', 'MrMime', 'Koffing', 'Sandslash', 'Golbat', 'Nidoking', 'Vaporeon', 'Nidorino', 'Butterfree', 'Weedle', 'Gloom', 'Seadra', 'Charmeleon', 'Primeape', 'Psyduck', 'Alolan Sandslash', 'Pidgeotto', 'Jigglypuff', 'Ekans', 'Seaking', 'Voltorb', 'Pidgeotto', 'Spearow', 'Slowpoke', 'Sandshrew', 'Magmar', 'Rapidash', 'Mew', 'Pikachu', 'Eevee', 'Caterpie', 'Dragonite', 'Exeggcute', 'Seaking', 'Ninetales', 'Snorlax', 'Dragonite', 'Onix', 'Vaporeon', 'Snorlax', 'Hitmonlee', 'Magnemite', 'Graveler', 'Clefable', 'Dewgong', 'Jigglypuff', 'Golduck', 'Clefable', 'Victreebel', 'Bulbasaur', 'Krabby', 'Electrode', 'Krabby', 'Sandslash', 'Omanyte', 'Machop', 'Snorlax', 'Magikarp', 'Zubat', 'Magmar', 'Rattata', 'Goldeen', 'Graveler', 'Victreebel', 'Ditto', 'Arcanine', 'Dragonair', 'Gengar', 'Poliwhirl', 'Dragonair', 'Abra', 'Mankey', 'Diglett', 'Lapras', 'Mewtwo', 'Victreebel', 'Tentacool', 'Kingler', 'Nidorina', 'Kadabra', 'Chansey', 'Machamp', 'Oddish', 'Ponyta', 'Pidgeot', 'Tentacruel', 'Exeggutor', 'Kadabra', 'Seaking', 'Aerodactyl', 'Moltres', 'Jigglypuff', 'Sandslash', 'Dugtrio', 'Muk', 'Metapod', 'Goldeen', 'Onix', 'Flareon', 'Voltorb', 'Charmeleon', 'Vulpix', 'Poliwag', 'Hitmonchan', 'Vileplume', 'Moltres', 'Zubat', 'Machoke', 'Golbat', 'Ponyta', 'Kingler', 'Kabuto', 'Farfetchd', 'Staryu', 'Pidgeot', 'Seel', 'Venonat', 'Slowbro', 'Zubat', 'Kadabra', 'Weedle', 'Kingler', 'Persian', 'Exeggcute', 'Gloom', 'Vaporeon', 'Seaking', 'Doduo', 'Dewgong', 'Aerodactyl', 'Bulbasaur', 'Vileplume', 'Vileplume', 'Arbok', 'Meowth', 'Wartortle', 'Slowbro', 'Pinsir', 'Rapidash', 'Mankey', 'Jigglypuff', 'Bellsprout', 'Dewgong', 'Horsea', 'Horsea', 'Lapras', 'Jynx', 'Electrode', 'Poliwag', 'Charmeleon', 'Caterpie', 'Squirtle', 'Staryu', 'Jolteon', 'Jynx', 'Seadra', 'Porygon', 'Poliwhirl', 'Goldeen', 'Wigglytuff', 'Jolteon', 'Diglett', 'Horsea', 'Kangaskhan', 'Primeape', 'Venonat', 'Poliwhirl', 'Rattata', 'Raticate', 'Venusaur', 'Dewgong', 'Bulbasaur', 'Omastar', 'Jolteon', 'Rhyhorn', 'Omastar', 'Nidoqueen', 'Wigglytuff', 'Golduck', 'Scyther', 'Graveler', 'Seadra', 'Pinsir', 'Cubone', 'Weezing', 'Exeggcute', 'Krabby', 'Oddish', 'Vaporeon', 'Golduck', 'Machamp', 'Haunter', 'Vileplume', 'Fearow', 'Pinsir', 'Chansey', 'Articuno', 'Shellder', 'Weepinbell', 'Venusaur', 'Psyduck', 'Geodude', 'Paras', 'Lickitung', 'Nidorino', 'Pikachu', 'Gengar', 'Kadabra', 'Charmander', 'Electrode', 'Grimer', 'Exeggutor', 'Gyarados', 'Krabby', 'Koffing', 'Clefairy', 'Golem', 'Nidorina', 'Jigglypuff', 'Gyarados', 'Victreebel', 'Dragonair', 'Exeggcute', 'Venusaur', 'Pikachu', 'Starmie', 'Hitmonlee', 'Goldeen', 'Alakazam', 'Seadra', 'Hypno', 'Seel', 'Exeggutor', 'Venusaur', 'Raichu', 'Rhyhorn', 'Ponyta', 'Pikachu', 'Squirtle', 'Rhyhorn', 'Chansey', 'Gloom', 'Farfetchd', 'Electabuzz', 'Haunter', 'Fearow', 'Metapod', 'Chansey', 'Diglett', 'Cubone', 'Fearow', 'Hitmonchan', 'Hitmonlee', 'Machamp', 'Golem', 'Ivysaur', 'Paras', 'Marowak', 'Rhyhorn', 'Nidoking', 'Kadabra', 'Tauros', 'Butterfree', 'Nidoking', 'MrMime', 'Kakuna', 'Onix', 'Clefairy', 'Nidoking', 'Kabuto', 'Voltorb', 'Shellder', 'Kingler', 'Venusaur', 'Golduck', 'Primeape', 'Tangela', 'Rattata', 'Magnemite', 'Tentacool', 'Rattata', 'Raichu', 'Omanyte', 'Tauros', 'Squirtle', 'Weedle', 'Ditto', 'Mewtwo', 'Pinsir', 'Lapras', 'Raticate', 'Tauros', 'Omanyte', 'Electrode', 'Zubat', 'Parasect', 'Psyduck', 'Ninetales', 'Poliwag', 'Arbok', 'Rapidash', 'Venonat', 'MrMime', 'Dratini', 'Muk', 'Dugtrio', 'Jynx', 'Porygon', 'Pidgeot', 'Raichu', 'Lickitung', 'Electabuzz', 'Haunter', 'Caterpie', 'Seel', 'Wigglytuff', 'Dratini', 'Dewgong', 'Tentacruel', 'Electrode', 'Mankey', 'Magnemite', 'Exeggcute', 'Grimer', 'Poliwrath', 'Tauros', 'Dragonite', 'Flareon', 'Rhydon', 'Moltres', 'Omanyte', 'Aerodactyl', 'Rapidash', 'Eevee', 'Paras', 'Golduck', 'Onix', 'Golem', 'Poliwrath', 'Staryu', 'Venusaur', 'Clefable', 'Kangaskhan', 'Mew', 'Tentacruel', 'Dewgong', 'Fearow', 'Cloyster', 'Mew', 'Articuno', 'Persian', 'Drowzee', 'Koffing', 'Charizard', 'Kabuto', 'Kabuto', 'Tentacruel', 'Mewtwo', 'Lapras', 'Sandshrew', 'Golem', 'Clefairy', 'Gyarados', 'Mewtwo', 'Arcanine', 'Electabuzz', 'Spearow', 'Machoke', 'Venomoth', 'Arcanine', 'Primeape', 'Eevee', 'Charizard', 'Geodude', 'Rhydon', 'Starmie', 'Magneton', 'Pidgey', 'Metapod', 'Clefairy', 'Venomoth', 'Dodrio', 'Oddish', 'Tentacool', 'Venusaur', 'Venonat', 'Kabuto', 'Rhyhorn', 'Pidgeot', 'Vulpix', 'Kabutops', 'Omastar', 'Shellder', 'Machop', 'Golbat', 'Poliwhirl', 'Wartortle', 'Vulpix', 'Porygon', 'Weedle', 'Sandshrew', 'Exeggutor', 'Golduck', 'Alakazam', 'Charmander', 'Wigglytuff', 'Weepinbell', 'Krabby', 'Vulpix', 'Exeggutor', 'Magneton', 'Charmander', 'Doduo', 'Ninetales', 'Magneton', 'Farfetchd', 'Gloom', 'Machoke', 'Vaporeon', 'Omanyte', 'Omastar', 'Kingler', 'Ditto', 'Machop', 'Oddish', 'Ditto', 'Metapod', 'Grimer', 'Gyarados', 'Arcanine', 'Drowzee', 'Tentacool', 'Rhydon', 'Cubone', 'Slowbro', 'Nidoqueen', 'Weepinbell', 'Rattata', 'Starmie', 'Jynx', 'Vulpix', 'Farfetchd', 'Meowth', 'Sandslash', 'Zapdos', 'Staryu', 'Nidorina', 'Persian', 'Jolteon', 'Wartortle', 'Porygon', 'Machamp', 'Ninetales', 'Blastoise', 'Nidoking', 'Sandshrew', 'Koffing', 'Electabuzz', 'Gastly', 'Parasect', 'Alolan Sandslash', 'Poliwhirl', 'Golem', 'Alakazam', 'Flareon', 'Ivysaur', 'Butterfree', 'Articuno', 'Scyther', 'Articuno', 'Weedle', 'Venomoth', 'Machoke', 'Tentacruel', 'Dratini', 'Lapras', 'Geodude', 'Dragonite', 'Hypno', 'Nidoqueen', 'Slowbro', 'Haunter', 'Fearow', 'Tauros', 'Machamp', 'Cloyster', 'Arbok', 'Parasect', 'Nidorina', 'Cubone', 'Scyther', 'Diglett', 'Starmie', 'Bellsprout', 'Vileplume', 'Charmeleon', 'Cubone', 'Oddish', 'Nidoqueen', 'Spearow', 'Zapdos', 'Slowpoke', 'Jolteon', 'Pinsir', 'Diglett', 'Clefable', 'Scyther', 'Horsea', 'Exeggutor']\n",
            "789\n",
            "                  precision    recall  f1-score   support\n",
            "\n",
            "            Abra       1.00      1.00      1.00         4\n",
            "      Aerodactyl       1.00      1.00      1.00         4\n",
            "        Alakazam       1.00      0.75      0.86         4\n",
            "Alolan Sandslash       1.00      1.00      1.00         5\n",
            "           Arbok       1.00      1.00      1.00         5\n",
            "        Arcanine       0.83      1.00      0.91         5\n",
            "        Articuno       1.00      1.00      1.00         5\n",
            "        Beedrill       1.00      1.00      1.00         4\n",
            "      Bellsprout       1.00      1.00      1.00         4\n",
            "       Blastoise       1.00      0.60      0.75         5\n",
            "       Bulbasaur       1.00      0.80      0.89         5\n",
            "      Butterfree       1.00      1.00      1.00         4\n",
            "        Caterpie       1.00      1.00      1.00         5\n",
            "         Chansey       1.00      1.00      1.00         5\n",
            "       Charizard       1.00      1.00      1.00         4\n",
            "      Charmander       1.00      0.83      0.91         6\n",
            "      Charmeleon       1.00      1.00      1.00         6\n",
            "        Clefable       1.00      1.00      1.00         5\n",
            "        Clefairy       1.00      1.00      1.00         6\n",
            "        Cloyster       1.00      1.00      1.00         6\n",
            "          Cubone       0.67      1.00      0.80         4\n",
            "         Dewgong       0.62      1.00      0.77         5\n",
            "         Diglett       1.00      1.00      1.00         5\n",
            "           Ditto       1.00      1.00      1.00         4\n",
            "          Dodrio       1.00      1.00      1.00         5\n",
            "           Doduo       1.00      1.00      1.00         4\n",
            "       Dragonair       1.00      1.00      1.00         5\n",
            "       Dragonite       0.86      1.00      0.92         6\n",
            "         Dratini       1.00      0.75      0.86         4\n",
            "         Drowzee       1.00      1.00      1.00         5\n",
            "         Dugtrio       1.00      1.00      1.00         6\n",
            "           Eevee       1.00      0.80      0.89         5\n",
            "           Ekans       1.00      1.00      1.00         4\n",
            "      Electabuzz       0.83      1.00      0.91         5\n",
            "       Electrode       1.00      1.00      1.00         6\n",
            "       Exeggcute       0.86      1.00      0.92         6\n",
            "       Exeggutor       1.00      1.00      1.00         6\n",
            "       Farfetchd       1.00      1.00      1.00         6\n",
            "          Fearow       1.00      1.00      1.00         6\n",
            "         Flareon       1.00      1.00      1.00         5\n",
            "          Gastly       1.00      1.00      1.00         5\n",
            "          Gengar       1.00      1.00      1.00         6\n",
            "         Geodude       0.67      1.00      0.80         4\n",
            "           Gloom       1.00      1.00      1.00         6\n",
            "          Golbat       1.00      0.83      0.91         6\n",
            "         Goldeen       1.00      1.00      1.00         6\n",
            "         Golduck       0.86      1.00      0.92         6\n",
            "           Golem       1.00      1.00      1.00         6\n",
            "        Graveler       1.00      1.00      1.00         4\n",
            "          Grimer       0.71      1.00      0.83         5\n",
            "       Growlithe       1.00      1.00      1.00         5\n",
            "        Gyarados       1.00      1.00      1.00         6\n",
            "         Haunter       1.00      1.00      1.00         6\n",
            "      Hitmonchan       1.00      1.00      1.00         6\n",
            "       Hitmonlee       1.00      1.00      1.00         6\n",
            "          Horsea       1.00      1.00      1.00         6\n",
            "           Hypno       1.00      1.00      1.00         6\n",
            "         Ivysaur       1.00      1.00      1.00         4\n",
            "      Jigglypuff       1.00      1.00      1.00         6\n",
            "         Jolteon       1.00      1.00      1.00         6\n",
            "            Jynx       1.00      0.83      0.91         6\n",
            "          Kabuto       1.00      1.00      1.00         6\n",
            "        Kabutops       1.00      1.00      1.00         5\n",
            "         Kadabra       1.00      1.00      1.00         6\n",
            "          Kakuna       1.00      0.83      0.91         6\n",
            "      Kangaskhan       1.00      1.00      1.00         6\n",
            "         Kingler       1.00      1.00      1.00         6\n",
            "         Koffing       1.00      0.83      0.91         6\n",
            "          Krabby       1.00      1.00      1.00         6\n",
            "          Lapras       1.00      1.00      1.00         6\n",
            "       Lickitung       1.00      1.00      1.00         6\n",
            "         Machamp       0.86      1.00      0.92         6\n",
            "         Machoke       1.00      1.00      1.00         5\n",
            "          Machop       0.80      0.80      0.80         5\n",
            "        Magikarp       1.00      1.00      1.00         5\n",
            "          Magmar       1.00      1.00      1.00         5\n",
            "       Magnemite       1.00      0.83      0.91         6\n",
            "        Magneton       1.00      1.00      1.00         5\n",
            "          Mankey       0.86      1.00      0.92         6\n",
            "         Marowak       1.00      0.67      0.80         3\n",
            "          Meowth       1.00      1.00      1.00         4\n",
            "         Metapod       0.83      0.83      0.83         6\n",
            "             Mew       1.00      1.00      1.00         6\n",
            "          Mewtwo       0.86      1.00      0.92         6\n",
            "         Moltres       1.00      1.00      1.00         5\n",
            "          MrMime       0.83      1.00      0.91         5\n",
            "             Muk       1.00      0.75      0.86         4\n",
            "        Nidoking       0.86      1.00      0.92         6\n",
            "       Nidoqueen       1.00      1.00      1.00         6\n",
            "        Nidorina       0.80      0.80      0.80         5\n",
            "        Nidorino       1.00      1.00      1.00         6\n",
            "       Ninetales       1.00      1.00      1.00         5\n",
            "          Oddish       1.00      1.00      1.00         6\n",
            "         Omanyte       1.00      1.00      1.00         5\n",
            "         Omastar       1.00      1.00      1.00         5\n",
            "            Onix       0.83      1.00      0.91         5\n",
            "           Paras       1.00      1.00      1.00         6\n",
            "        Parasect       1.00      1.00      1.00         5\n",
            "         Persian       1.00      0.80      0.89         5\n",
            "         Pidgeot       1.00      1.00      1.00         5\n",
            "       Pidgeotto       1.00      1.00      1.00         4\n",
            "          Pidgey       1.00      1.00      1.00         6\n",
            "         Pikachu       1.00      1.00      1.00         7\n",
            "          Pinsir       1.00      1.00      1.00         5\n",
            "         Poliwag       1.00      1.00      1.00         6\n",
            "       Poliwhirl       0.83      1.00      0.91         5\n",
            "       Poliwrath       1.00      0.75      0.86         4\n",
            "          Ponyta       1.00      1.00      1.00         5\n",
            "         Porygon       1.00      1.00      1.00         6\n",
            "        Primeape       1.00      1.00      1.00         6\n",
            "         Psyduck       1.00      1.00      1.00         4\n",
            "          Raichu       1.00      0.67      0.80         6\n",
            "        Rapidash       1.00      1.00      1.00         6\n",
            "        Raticate       1.00      0.80      0.89         5\n",
            "         Rattata       1.00      1.00      1.00         5\n",
            "          Rhydon       1.00      1.00      1.00         5\n",
            "         Rhyhorn       1.00      1.00      1.00         5\n",
            "       Sandshrew       1.00      1.00      1.00         6\n",
            "       Sandslash       1.00      1.00      1.00         5\n",
            "         Scyther       1.00      1.00      1.00         7\n",
            "          Seadra       1.00      1.00      1.00         6\n",
            "         Seaking       1.00      1.00      1.00         6\n",
            "            Seel       1.00      1.00      1.00         6\n",
            "        Shellder       0.86      1.00      0.92         6\n",
            "         Slowbro       1.00      0.83      0.91         6\n",
            "        Slowpoke       1.00      0.80      0.89         5\n",
            "         Snorlax       1.00      1.00      1.00         7\n",
            "         Spearow       1.00      1.00      1.00         6\n",
            "        Squirtle       1.00      1.00      1.00         6\n",
            "         Starmie       1.00      1.00      1.00         6\n",
            "          Staryu       1.00      1.00      1.00         6\n",
            "         Tangela       1.00      1.00      1.00         6\n",
            "          Tauros       1.00      0.83      0.91         6\n",
            "       Tentacool       1.00      1.00      1.00         5\n",
            "      Tentacruel       1.00      1.00      1.00         6\n",
            "        Vaporeon       1.00      1.00      1.00         7\n",
            "        Venomoth       1.00      1.00      1.00         6\n",
            "         Venonat       1.00      1.00      1.00         6\n",
            "        Venusaur       1.00      1.00      1.00         8\n",
            "      Victreebel       1.00      1.00      1.00         6\n",
            "       Vileplume       1.00      1.00      1.00         7\n",
            "         Voltorb       1.00      1.00      1.00         6\n",
            "          Vulpix       1.00      1.00      1.00         5\n",
            "       Wartortle       1.00      1.00      1.00         6\n",
            "          Weedle       1.00      1.00      1.00         6\n",
            "      Weepinbell       1.00      1.00      1.00         5\n",
            "         Weezing       1.00      1.00      1.00         5\n",
            "      Wigglytuff       1.00      1.00      1.00         7\n",
            "          Zapdos       1.00      1.00      1.00         6\n",
            "           Zubat       1.00      1.00      1.00         4\n",
            "\n",
            "        accuracy                           0.97       814\n",
            "       macro avg       0.97      0.97      0.97       814\n",
            "    weighted avg       0.98      0.97      0.97       814\n",
            "\n"
          ],
          "name": "stdout"
        }
      ]
    },
    {
      "cell_type": "code",
      "metadata": {
        "id": "lZtkRtalDEts",
        "colab_type": "code",
        "colab": {}
      },
      "source": [
        "from sklearn.metrics import confusion_matrix\n",
        "from sklearn.metrics import classification_report"
      ],
      "execution_count": null,
      "outputs": []
    },
    {
      "cell_type": "code",
      "metadata": {
        "id": "LySe2a2G2ylO",
        "colab_type": "code",
        "colab": {
          "base_uri": "https://localhost:8080/",
          "height": 251
        },
        "outputId": "38ca8baa-c196-4463-b072-bc2b0c33be63"
      },
      "source": [
        "true=['pidgeotto','poliwhirl','venusaur','wigglytuff','ditto','pidgeotto','poliwhirl','venusaur','wigglytuff','ditto','a','a','z','z','z']\n",
        "pred=['pidgeotto','poliwhirl','venusaur','pidgeotto','poliwhirl','venusaur','wigglytuff','ditto','wigglytuff','z','z','a','z','z','z']\n",
        "print(classification_report(true,pred))\n"
      ],
      "execution_count": null,
      "outputs": [
        {
          "output_type": "stream",
          "text": [
            "              precision    recall  f1-score   support\n",
            "\n",
            "           a       1.00      0.50      0.67         2\n",
            "       ditto       0.00      0.00      0.00         2\n",
            "   pidgeotto       0.50      0.50      0.50         2\n",
            "   poliwhirl       0.50      0.50      0.50         2\n",
            "    venusaur       0.50      0.50      0.50         2\n",
            "  wigglytuff       0.50      0.50      0.50         2\n",
            "           z       0.60      1.00      0.75         3\n",
            "\n",
            "    accuracy                           0.53        15\n",
            "   macro avg       0.51      0.50      0.49        15\n",
            "weighted avg       0.52      0.53      0.51        15\n",
            "\n"
          ],
          "name": "stdout"
        }
      ]
    },
    {
      "cell_type": "code",
      "metadata": {
        "id": "vuUr9PmAQNtu",
        "colab_type": "code",
        "colab": {
          "base_uri": "https://localhost:8080/",
          "height": 71
        },
        "outputId": "3f2778c6-28ed-47ad-9009-435a33a08e4e"
      },
      "source": [
        "\"\"\"\n",
        "import random\n",
        "y_pred=[]\n",
        "for i in range(150):\n",
        "  y_pred.append(str(i))\n",
        "\n",
        "y_true=random.sample(y_pred,len(y_pred))\n",
        "print(y_pred)\n",
        "\"\"\""
      ],
      "execution_count": null,
      "outputs": [
        {
          "output_type": "stream",
          "text": [
            "['0', '1', '2', '3', '4', '5', '6', '7', '8', '9', '10', '11', '12', '13', '14', '15', '16', '17', '18', '19', '20', '21', '22', '23', '24', '25', '26', '27', '28', '29', '30', '31', '32', '33', '34', '35', '36', '37', '38', '39', '40', '41', '42', '43', '44', '45', '46', '47', '48', '49', '50', '51', '52', '53', '54', '55', '56', '57', '58', '59', '60', '61', '62', '63', '64', '65', '66', '67', '68', '69', '70', '71', '72', '73', '74', '75', '76', '77', '78', '79', '80', '81', '82', '83', '84', '85', '86', '87', '88', '89', '90', '91', '92', '93', '94', '95', '96', '97', '98', '99', '100', '101', '102', '103', '104', '105', '106', '107', '108', '109', '110', '111', '112', '113', '114', '115', '116', '117', '118', '119', '120', '121', '122', '123', '124', '125', '126', '127', '128', '129', '130', '131', '132', '133', '134', '135', '136', '137', '138', '139', '140', '141', '142', '143', '144', '145', '146', '147', '148', '149']\n",
            "['124', '48', '118', '60', '68', '7', '95', '31', '70', '100', '91', '130', '42', '13', '16', '50', '34', '22', '61', '129', '138', '19', '147', '35', '72', '44', '133', '43', '24', '8', '99', '104', '77', '32', '135', '76', '114', '132', '125', '113', '66', '26', '148', '131', '5', '136', '141', '105', '17', '116', '123', '83', '54', '74', '28', '96', '111', '62', '102', '0', '103', '56', '119', '146', '90', '93', '127', '46', '149', '107', '14', '64', '85', '57', '65', '21', '81', '126', '73', '58', '139', '3', '115', '89', '52', '145', '20', '79', '53', '67', '121', '47', '63', '29', '109', '36', '134', '40', '106', '45', '128', '144', '1', '6', '15', '41', '10', '12', '137', '2', '4', '142', '87', '11', '101', '84', '51', '33', '88', '86', '143', '69', '82', '108', '30', '140', '98', '110', '71', '92', '78', '37', '18', '38', '49', '75', '55', '23', '25', '97', '39', '94', '117', '27', '112', '120', '122', '59', '9', '80']\n"
          ],
          "name": "stdout"
        }
      ]
    },
    {
      "cell_type": "code",
      "metadata": {
        "id": "-jXiOEvnPW1_",
        "colab_type": "code",
        "colab": {
          "base_uri": "https://localhost:8080/",
          "height": 187
        },
        "outputId": "7184a491-0e4b-4488-fa6b-9260fe0ede58"
      },
      "source": [
        "\"\"\"from sklearn.metrics import confusion_matrix\n",
        "# y_true=['pidgeotto','poliwhirl','venusaur','wigglytuff','ditto','pidgeotto','poliwhirl','venusaur','wigglytuff','ditto','a','b','c','d','e','f','g','h','i']\n",
        "# y_pred=['pidgeotto','poliwhirl','venusaur','pidgeotto','poliwhirl','venusaur','wigglytuff','ditto','wigglytuff','ditto']\n",
        "a=confusion_matrix(y_true,y_pred)\n",
        "a[0:10,0:10]\n",
        "\"\"\""
      ],
      "execution_count": null,
      "outputs": [
        {
          "output_type": "execute_result",
          "data": {
            "text/plain": [
              "array([[0, 0, 0, 0, 0, 0, 0, 0, 0, 0],\n",
              "       [0, 0, 0, 0, 0, 1, 0, 0, 0, 0],\n",
              "       [0, 0, 0, 0, 0, 0, 0, 0, 0, 1],\n",
              "       [0, 0, 0, 0, 0, 0, 0, 0, 0, 0],\n",
              "       [0, 0, 0, 0, 0, 0, 0, 0, 0, 0],\n",
              "       [0, 0, 0, 0, 0, 0, 0, 0, 0, 0],\n",
              "       [0, 0, 0, 0, 0, 0, 0, 0, 0, 0],\n",
              "       [0, 0, 0, 0, 0, 0, 0, 0, 0, 0],\n",
              "       [0, 0, 0, 0, 0, 0, 0, 0, 0, 0],\n",
              "       [0, 0, 0, 0, 0, 0, 0, 0, 0, 0]])"
            ]
          },
          "metadata": {
            "tags": []
          },
          "execution_count": 11
        }
      ]
    },
    {
      "cell_type": "markdown",
      "metadata": {
        "id": "PuyavDEOPWlQ",
        "colab_type": "text"
      },
      "source": [
        ""
      ]
    }
  ]
}