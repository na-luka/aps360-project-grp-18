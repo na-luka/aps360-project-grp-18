{
  "nbformat": 4,
  "nbformat_minor": 0,
  "metadata": {
    "colab": {
      "name": "AlexnetWithDecay",
      "provenance": [],
      "collapsed_sections": []
    },
    "kernelspec": {
      "name": "python3",
      "display_name": "Python 3"
    }
  },
  "cells": [
    {
      "cell_type": "code",
      "metadata": {
        "id": "S1ozo2avcEaZ",
        "colab_type": "code",
        "colab": {
          "resources": {
            "http://localhost:8080/nbextensions/google.colab/files.js": {
              "data": "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",
              "ok": true,
              "headers": [
                [
                  "content-type",
                  "application/javascript"
                ]
              ],
              "status": 200,
              "status_text": ""
            }
          },
          "base_uri": "https://localhost:8080/",
          "height": 56
        },
        "outputId": "0b57039b-0325-4783-fc46-8451092d37ea"
      },
      "source": [
        "! pip install -q kaggle\n",
        "from google.colab import files\n",
        "files.upload()"
      ],
      "execution_count": null,
      "outputs": [
        {
          "output_type": "display_data",
          "data": {
            "text/html": [
              "\n",
              "     <input type=\"file\" id=\"files-54acb5b0-e597-41ec-9721-090b2968207b\" name=\"files[]\" multiple disabled\n",
              "        style=\"border:none\" />\n",
              "     <output id=\"result-54acb5b0-e597-41ec-9721-090b2968207b\">\n",
              "      Upload widget is only available when the cell has been executed in the\n",
              "      current browser session. Please rerun this cell to enable.\n",
              "      </output>\n",
              "      <script src=\"/nbextensions/google.colab/files.js\"></script> "
            ],
            "text/plain": [
              "<IPython.core.display.HTML object>"
            ]
          },
          "metadata": {
            "tags": []
          }
        },
        {
          "output_type": "execute_result",
          "data": {
            "text/plain": [
              "{}"
            ]
          },
          "metadata": {
            "tags": []
          },
          "execution_count": 1
        }
      ]
    },
    {
      "cell_type": "code",
      "metadata": {
        "id": "qdKOn5iZcbfQ",
        "colab_type": "code",
        "colab": {
          "base_uri": "https://localhost:8080/",
          "height": 35
        },
        "outputId": "f3c609b3-6a96-428b-d2bc-a6345793ce91"
      },
      "source": [
        "from google.colab import drive\n",
        "drive.mount('/content/drive')"
      ],
      "execution_count": null,
      "outputs": [
        {
          "output_type": "stream",
          "text": [
            "Drive already mounted at /content/drive; to attempt to forcibly remount, call drive.mount(\"/content/drive\", force_remount=True).\n"
          ],
          "name": "stdout"
        }
      ]
    },
    {
      "cell_type": "code",
      "metadata": {
        "id": "G6ZecVjscY6S",
        "colab_type": "code",
        "colab": {
          "base_uri": "https://localhost:8080/",
          "height": 88
        },
        "outputId": "c0812b21-9126-4fe2-b8a4-931e0fd80a53"
      },
      "source": [
        "! mkdir ~/.kaggle\n",
        "! cp kaggle.json ~/.kaggle/\n",
        "! chmod 600 ~/.kaggle/kaggle.json\n",
        "\n",
        "! kaggle datasets download --unzip lantian773030/pokemonclassification\n",
        "\n",
        "import torch\n",
        "import torch.nn as nn\n",
        "import torch.nn.functional as F\n",
        "from torch.utils.data.sampler import SubsetRandomSampler\n",
        "\n",
        "import matplotlib.pyplot as plt # for plotting\n",
        "import torch.optim as optim #for gradient descent\n",
        "import numpy as np\n",
        "import time\n",
        "\n",
        "torch.manual_seed(1) # set the random seed\n",
        "\n",
        "# obtain data\n",
        "from torchvision import datasets, transforms\n",
        "\n",
        "import torchvision.models\n",
        "alexnet = torchvision.models.alexnet(pretrained=True)"
      ],
      "execution_count": null,
      "outputs": [
        {
          "output_type": "stream",
          "text": [
            "mkdir: cannot create directory ‘/root/.kaggle’: File exists\n",
            "Downloading pokemonclassification.zip to /content\n",
            " 97% 406M/417M [00:05<00:00, 103MB/s] \n",
            "100% 417M/417M [00:05<00:00, 82.2MB/s]\n"
          ],
          "name": "stdout"
        }
      ]
    },
    {
      "cell_type": "code",
      "metadata": {
        "id": "GBWO3jO3cdcX",
        "colab_type": "code",
        "colab": {}
      },
      "source": [
        "def get_model_name(path=\"/content/drive/My Drive/project/alexnet_with_decay\", batch_size=64, learning_rate=0.01, epoch=30):\n",
        "    path = \"{}/poke7k_bs{}_lr{}_epoch{}\".format(path,\n",
        "            batch_size, learning_rate, epoch)\n",
        "    return path\n",
        "\n",
        "def get_data_loader(batch_size):\n",
        "    \"\"\" Loads images of cats and dogs, splits the data into training, validation\n",
        "    and testing datasets. Returns data loaders for the three preprocessed datasets.\n",
        "\n",
        "    Args:\n",
        "        target_classes: A list of strings denoting the name of the desired\n",
        "                        classes. Should be a subset of the argument 'classes'\n",
        "        batch_size: A int representing the number of samples per batch\n",
        "    \n",
        "    Returns:\n",
        "        train_loader: iterable training dataset organized according to batch size\n",
        "        val_loader: iterable validation dataset organized according to batch size\n",
        "        test_loader: iterable testing dataset organized according to batch size\n",
        "        classes: A list of strings denoting the name of each class\n",
        "    \"\"\"\n",
        "\n",
        "    ########################################################################\n",
        "    # The output of torchvision datasets are PILImage images of range [0, 1].\n",
        "    # We transform them to Tensors of normalized range [-1, 1].\n",
        "    transform = transforms.Compose(\n",
        "        [transforms.Resize((224,224)), \n",
        "         transforms.ToTensor(),\n",
        "         transforms.Normalize((0.5, 0.5, 0.5), (0.5, 0.5, 0.5))])\n",
        "    # Load training data\n",
        "    features_path = '/content/drive/My Drive/alexnet_with_decay_features'                                          #Alexnet\n",
        "    alexnet_data = torchvision.datasets.DatasetFolder(features_path, loader=torch.load, extensions=('.tensor'))    #alexnet\n",
        "\n",
        "    # Get the list of indices to sample from\n",
        "    relevant_indices = []\n",
        "    for i in range(len(alexnet_data)): relevant_indices.append(i)\n",
        "    # Split into train and validation\n",
        "    np.random.seed(1000) # Fixed numpy random seed for reproducible shuffling\n",
        "    np.random.shuffle(relevant_indices)\n",
        "    split = int(len(relevant_indices) * 0.9) #split at 90%\n",
        "    split1 = int(len(relevant_indices) * 0.99) #split at 99%\n",
        "    \n",
        "    # split into training, validation and testing indices\n",
        "    relevant_train_indices, relevant_val_indices, relevant_test_indices = relevant_indices[:split], relevant_indices[split:split1], relevant_indices[split1:]  \n",
        "  \n",
        "    train_sampler = SubsetRandomSampler(relevant_train_indices)\n",
        "    train_loader = torch.utils.data.DataLoader(alexnet_data, batch_size=batch_size,\n",
        "                                              num_workers=1, sampler=train_sampler)\n",
        "    val_sampler = SubsetRandomSampler(relevant_val_indices)\n",
        "    val_loader = torch.utils.data.DataLoader(alexnet_data, batch_size=batch_size,\n",
        "                                              num_workers=1, sampler=val_sampler)\n",
        "    test_sampler = SubsetRandomSampler(relevant_test_indices)\n",
        "    test_loader = torch.utils.data.DataLoader(alexnet_data, batch_size=batch_size,\n",
        "                                              num_workers=1, sampler=test_sampler)\n",
        "\n",
        "    return train_loader, val_loader, test_loader"
      ],
      "execution_count": null,
      "outputs": []
    },
    {
      "cell_type": "code",
      "metadata": {
        "id": "76m7okmLd8XZ",
        "colab_type": "code",
        "colab": {}
      },
      "source": [
        "import torchvision.models\n",
        "import os\n",
        "alexnet = torchvision.models.alexnet(pretrained=True)\n",
        "\n",
        "transform  = transforms.Compose([\n",
        "    transforms.Resize((224,224)),\n",
        "    transforms.ToTensor(),\n",
        "    transforms.Normalize((0.5, 0.5, 0.5), (0.5, 0.5, 0.5))])\n",
        "\n",
        "train_path = 'PokemonData/'\n",
        "alexnet_data = datasets.ImageFolder(train_path,transform)\n",
        "\n",
        "classes = []\n",
        "for root, dirs, files in os.walk(\"PokemonData\"):\n",
        "    for dir in dirs:\n",
        "        classes.append(dir)\n",
        "classes.sort()\n",
        "\n",
        "alexnet_data = torch.utils.data.DataLoader(alexnet_data, batch_size=1, num_workers=1, shuffle=False)\n",
        "features_path = '/content/drive/My Drive/alexnet_with_decay_features'\n",
        "\n",
        "n=0\n",
        "\n",
        "for img, label in alexnet_data:\n",
        "    feature = alexnet.features(img)\n",
        "    feature = torch.from_numpy(feature.detach().numpy())\n",
        "\n",
        "    dir = features_path + '/' + str(classes[label])\n",
        "    if not os.path.isdir(dir):\n",
        "      os.mkdir(dir)\n",
        "\n",
        "    torch.save(feature.squeeze(0), dir + '/' + str(n) + '.tensor')\n",
        "    n += 1"
      ],
      "execution_count": null,
      "outputs": []
    },
    {
      "cell_type": "code",
      "metadata": {
        "id": "ELugI5m4dVjV",
        "colab_type": "code",
        "colab": {
          "base_uri": "https://localhost:8080/",
          "height": 426
        },
        "outputId": "ba546e2e-e590-455d-b5f8-50482b1cff03"
      },
      "source": [
        "train_loader, val_loader, test_loader = get_data_loader(20)\n",
        "for i, data in enumerate(train_loader, 0):\n",
        "  imgs,labels = data\n",
        "  print(i,imgs.shape,labels)\n",
        "  if i==3: break\n",
        "\n",
        "for i, data in enumerate(val_loader, 0):\n",
        "  imgs,labels = data\n",
        "  print(i,imgs.shape,labels)\n",
        "  if i==3: break\n",
        "\n",
        "for i, data in enumerate(test_loader, 0):\n",
        "  imgs,labels = data\n",
        "  print(i,imgs.shape,labels)\n",
        "  if i==3: break  "
      ],
      "execution_count": null,
      "outputs": [
        {
          "output_type": "stream",
          "text": [
            "0 torch.Size([20, 256, 6, 6]) tensor([122,  55,  36,   3,  93,  93,  19,  26,  57, 115,  78,  23,  96,   0,\n",
            "         73,  77, 144,  84,  96, 119])\n",
            "1 torch.Size([20, 256, 6, 6]) tensor([ 26, 139,  34, 146,  78, 124, 117, 141, 115,  53,  38, 128, 101,  49,\n",
            "        133,  42,  82,  99,   3,  76])\n",
            "2 torch.Size([20, 256, 6, 6]) tensor([116,  21,  80,  22, 105,  46,  62,  29, 108, 131, 127, 125,  39,  59,\n",
            "         21,  57, 104,  74,  74, 132])\n",
            "3 torch.Size([20, 256, 6, 6]) tensor([111,  26,  77,   0,  30,  39,   7, 147, 107,  65,  45,  87,  72,   1,\n",
            "        101, 143, 100,  71, 106, 126])\n",
            "0 torch.Size([20, 256, 6, 6]) tensor([ 92,  40,  33, 138, 106, 107,  26,  89, 132,  31,   8,  81,  30,  45,\n",
            "         62,  84, 147,  10,  51, 143])\n",
            "1 torch.Size([20, 256, 6, 6]) tensor([ 34, 120,  27, 111,  25, 123,  42,  65,  42, 132,   1, 142,  94, 101,\n",
            "         73,  51,  74,   2, 117,   8])\n",
            "2 torch.Size([20, 256, 6, 6]) tensor([ 18,  54, 139, 118,  24, 132,   1,  33,  94,  13,  82,  64,  43,  54,\n",
            "         93, 113,  75,  55,   0, 148])\n",
            "3 torch.Size([20, 256, 6, 6]) tensor([ 97,  85,  20,  59, 135, 114,  99,  64,  12, 140,  50, 100,  66, 133,\n",
            "        146,  94, 100,  82,  50,  76])\n",
            "0 torch.Size([20, 256, 6, 6]) tensor([105,   8,   6, 137,  18, 134,  59, 106,  67,  52,  59, 129,  19,  77,\n",
            "         36,  56, 123,  10, 144, 143])\n",
            "1 torch.Size([20, 256, 6, 6]) tensor([119,  86,  96,  83,  14,  46,  30, 133, 142,  82, 146,  69,  63, 141,\n",
            "         34, 124,  54,  56,  26,   4])\n",
            "2 torch.Size([20, 256, 6, 6]) tensor([114,  17,  76, 120, 135,  32,  21, 138,  23, 149,  19,   5,  52, 112,\n",
            "        111,   0,  87, 104,  99,  31])\n",
            "3 torch.Size([9, 256, 6, 6]) tensor([89, 68, 40, 83, 89,  6, 44, 26, 95])\n"
          ],
          "name": "stdout"
        }
      ]
    },
    {
      "cell_type": "code",
      "metadata": {
        "id": "AVv9TrKvddp2",
        "colab_type": "code",
        "colab": {}
      },
      "source": [
        "class AlexClassifier(nn.Module):\n",
        "    def __init__(self):\n",
        "        super(AlexClassifier, self).__init__()\n",
        "        self.name = \"AlexNet\"\n",
        "        self.fc1 = nn.Linear(256 * 6 * 6, 450)\n",
        "        self.fc2 = nn.Linear(450, 150)\n",
        "\n",
        "    def forward(self, x):\n",
        "        x = x.view(-1, 256 * 6 * 6) #flatten feature data\n",
        "        x = F.relu(self.fc1(x))\n",
        "        x = self.fc2(x)\n",
        "        return x"
      ],
      "execution_count": null,
      "outputs": []
    },
    {
      "cell_type": "code",
      "metadata": {
        "id": "aX-lavwgdiDz",
        "colab_type": "code",
        "colab": {}
      },
      "source": [
        "def get_accuracy(model, loader):\n",
        "\n",
        "    correct = 0\n",
        "    total = 0\n",
        "    for imgs, labels in loader:\n",
        "        \n",
        "    #############################################\n",
        "        #To Enable GPU Usage\n",
        "        if use_cuda and torch.cuda.is_available():\n",
        "           imgs = imgs.cuda()\n",
        "           labels = labels.cuda()\n",
        "    #############################################\n",
        "\n",
        "        output = model(imgs)\n",
        "        \n",
        "        #select index with maximum prediction score\n",
        "        pred = output.max(1, keepdim=True)[1]\n",
        "        correct += pred.eq(labels.view_as(pred)).sum().item()\n",
        "        total += imgs.shape[0]\n",
        "    return correct / total\n",
        "\n",
        "def train(model, train_loader, val_loader, batch_size=64, num_epochs=1, learning_rate=0.01, save_data_path=\"\", weight_decay=0):\n",
        "    criterion = nn.CrossEntropyLoss()\n",
        "    optimizer = optim.SGD(model.parameters(), lr=learning_rate, momentum=0.9, weight_decay=weight_decay)\n",
        "\n",
        "    iters, losses, train_acc, val_acc = [], [], [], []\n",
        "    bss, lrs, times = [], [], []\n",
        "\n",
        "    # training\n",
        "    n = 0 # the number of iterations\n",
        "    start_epoch = 0 \n",
        "    end_epoch = num_epochs\n",
        "\n",
        "    if save_data_path != \"\":\n",
        "      save_data = torch.load(save_data_path)\n",
        "      start_epoch = save_data[\"epoch\"]+1\n",
        "      end_epoch = start_epoch + num_epochs\n",
        "      iters = save_data[\"iters\"]\n",
        "      n = iters[-1]+1\n",
        "      print(\"n = {}\".format(n))\n",
        "      losses = save_data[\"losses\"]\n",
        "      train_acc = save_data[\"train_acc\"]\n",
        "      val_acc = save_data[\"val_acc\"]\n",
        "      model.load_state_dict(save_data[\"state\"])\n",
        "      bss = save_data[\"bss\"]\n",
        "      lrs = save_data[\"lrs\"]\n",
        "      times = save_data[\"times\"]\n",
        "\n",
        "    start_time = last_time = time.time()    \n",
        "\n",
        "    for epoch in range(start_epoch, end_epoch):\n",
        "        for imgs, labels in iter(train_loader):\n",
        "              \n",
        "            #############################################\n",
        "            #To Enable GPU Usage\n",
        "            if use_cuda and torch.cuda.is_available():\n",
        "              imgs = imgs.cuda()\n",
        "              labels = labels.cuda()\n",
        "            #############################################\n",
        "\n",
        "            out = model(imgs)             # forward pass\n",
        "\n",
        "            loss = criterion(out, labels) # compute the total loss\n",
        "            loss.backward()               # backward pass (compute parameter updates)\n",
        "            optimizer.step()              # make the updates for each parameter\n",
        "            optimizer.zero_grad()         # a clean up step for PyTorch\n",
        "            \n",
        "            # save the current training information\n",
        "            iters.append(n)\n",
        "            losses.append(float(loss)/batch_size)             # compute *average* loss\n",
        "            train_acc.append(get_accuracy(model, train_loader)) # compute training accuracy \n",
        "            val_acc.append(get_accuracy(model, val_loader))   # compute validation accuracy\n",
        "            \n",
        "            n += 1\n",
        "        \n",
        "        bss.append(batch_size)                            \n",
        "        lrs.append(learning_rate)     \n",
        "        times.append(time.time()-last_time)      \n",
        "        last_time=time.time() \n",
        "        model_path = get_model_name(epoch=epoch+1,batch_size=batch_size,learning_rate=learning_rate)\n",
        "        save_data = {\"epoch\":epoch,\n",
        "                        \"iters\":iters,\n",
        "                        \"losses\":losses,\n",
        "                        \"train_acc\":train_acc,\n",
        "                        \"val_acc\":val_acc,\n",
        "                        \"times\":time.time()-start_time,\n",
        "                        \"state\":model.state_dict(),\n",
        "                        \"bss\":bss,\n",
        "                        \"lrs\":lrs,\n",
        "                        \"times\":times}\n",
        "        torch.save(save_data, model_path)\n",
        "        end_time = time.time()\n",
        "        elapsed_time = end_time - start_time\n",
        "        print(\"Epoch %d; Loss %f; Train Acc %f; Val Acc %f; Time %f;\" % (epoch+1, loss, train_acc[-1], val_acc[-1], sum(times)))\n",
        "\n",
        "    end_time = time.time()\n",
        "    elapsed_time = end_time - start_time\n",
        "\n",
        "    # plotting\n",
        "    plt.title(\"Training Curve\")\n",
        "    plt.plot(iters, losses, label=\"Train\")\n",
        "    plt.xlabel(\"Iterations\")\n",
        "    plt.ylabel(\"Loss\")\n",
        "    plt.show()\n",
        "\n",
        "    plt.title(\"Training Curve\")\n",
        "    plt.plot(iters, train_acc, label=\"Train\")\n",
        "    plt.plot(iters, val_acc, label=\"Validation\")\n",
        "    plt.xlabel(\"Iterations\")\n",
        "    plt.ylabel(\"Training Accuracy\")\n",
        "    plt.legend(loc='best')\n",
        "    plt.show()\n",
        "\n",
        "    print(\"Final Training Accuracy: {}\".format(train_acc[-1]))\n",
        "    print(\"Final Validation Accuracy: {}\".format(val_acc[-1]))\n",
        "    print(\"Total time elapsed: {:.2f} seconds\".format(sum(times)))"
      ],
      "execution_count": null,
      "outputs": []
    },
    {
      "cell_type": "code",
      "metadata": {
        "id": "3LRkMirDdzlI",
        "colab_type": "code",
        "colab": {}
      },
      "source": [
        "def get_saved_data_info(saved_data_path,item = \"all\"):\n",
        "  if saved_data_path != \"\":\n",
        "      save_data = torch.load(saved_data_path)\n",
        "      if item != \"all\":\n",
        "        print(item+\" is \"+save_data[item])\n",
        "        return\n",
        "      for item in save_data:\n",
        "        if item != \"state\": print(item+\"\\n\",save_data[item])"
      ],
      "execution_count": null,
      "outputs": []
    },
    {
      "cell_type": "code",
      "metadata": {
        "id": "9hO6_AS9e74u",
        "colab_type": "code",
        "colab": {}
      },
      "source": [
        "def featursDataLoaders(train_loader,val_loader,test_loader):\n",
        "  !mkdir ./dataset/features\n",
        "  !rm -rf ./dataset/features/*\n",
        "  # i=0\n",
        "  train_features, val_features, test_features = [],[],[]\n",
        "  \n",
        "  for i,data in enumerate(train_loader,0):\n",
        "    imgs, labels = data\n",
        "    torch.save((alexnet.features(imgs)).detach().numpy(),\"./dataset/features/train_features_{}\".format(i))\n",
        "  \n",
        "  for i,data in enumerate(val_loader,0):\n",
        "    imgs, labels = data\n",
        "    torch.save((alexnet.features(imgs)).detach().numpy(),\"./dataset/features/val_features_{}\".format(i))\n",
        "\n",
        "  for i,data in enumerate(test_loader,0):\n",
        "    imgs, labels = data\n",
        "    torch.save((alexnet.features(imgs)).detach().numpy(),\"./dataset/features/test_features_{}\".format(i))\n"
      ],
      "execution_count": null,
      "outputs": []
    },
    {
      "cell_type": "code",
      "metadata": {
        "id": "JzXLu0UofEi_",
        "colab_type": "code",
        "colab": {
          "base_uri": "https://localhost:8080/",
          "height": 1000
        },
        "outputId": "f4135b45-e41d-4107-e54f-a5bceef7e11d"
      },
      "source": [
        "#Alexnet 512\n",
        "use_cuda = True\n",
        "\n",
        "model = AlexClassifier()\n",
        "\n",
        "if use_cuda and torch.cuda.is_available():\n",
        "  model.cuda()\n",
        "  print('CUDA is available!  Training on GPU ...')\n",
        "else:\n",
        "  print('CUDA is not available.  Training on CPU ...')\n",
        "\n",
        "#proper model\n",
        "train_loader, val_loader, test_loader = get_data_loader(512)\n",
        "train(model, train_loader, val_loader, batch_size=512, learning_rate = 0.005, num_epochs=30, weight_decay=0.001)"
      ],
      "execution_count": null,
      "outputs": [
        {
          "output_type": "stream",
          "text": [
            "CUDA is not available.  Training on CPU ...\n",
            "Epoch 1; Loss 4.715331; Train Acc 0.173346; Val Acc 0.114192; Time 116.567130;\n",
            "Epoch 2; Loss 3.636813; Train Acc 0.478332; Val Acc 0.334421; Time 243.068998;\n",
            "Epoch 3; Loss 2.505852; Train Acc 0.749593; Val Acc 0.634584; Time 385.504394;\n",
            "Epoch 4; Loss 1.566270; Train Acc 0.851580; Val Acc 0.722675; Time 517.998713;\n",
            "Epoch 5; Loss 0.921846; Train Acc 0.904366; Val Acc 0.779772; Time 654.819345;\n",
            "Epoch 6; Loss 0.699153; Train Acc 0.936787; Val Acc 0.831974; Time 773.405389;\n",
            "Epoch 7; Loss 0.566502; Train Acc 0.957478; Val Acc 0.825449; Time 891.038587;\n",
            "Epoch 8; Loss 0.426828; Train Acc 0.969371; Val Acc 0.833605; Time 1009.413494;\n",
            "Epoch 9; Loss 0.321553; Train Acc 0.976377; Val Acc 0.853181; Time 1121.440196;\n",
            "Epoch 10; Loss 0.243195; Train Acc 0.985337; Val Acc 0.856444; Time 1238.261726;\n",
            "Epoch 11; Loss 0.257268; Train Acc 0.987292; Val Acc 0.869494; Time 1349.303993;\n",
            "Epoch 12; Loss 0.205259; Train Acc 0.992506; Val Acc 0.871126; Time 1472.038861;\n",
            "Epoch 13; Loss 0.185513; Train Acc 0.994135; Val Acc 0.869494; Time 1607.828544;\n",
            "Epoch 14; Loss 0.139541; Train Acc 0.995112; Val Acc 0.877651; Time 1730.928878;\n",
            "Epoch 15; Loss 0.136887; Train Acc 0.997067; Val Acc 0.874388; Time 1855.317294;\n",
            "Epoch 16; Loss 0.128075; Train Acc 0.997230; Val Acc 0.874388; Time 1983.561616;\n",
            "Epoch 17; Loss 0.101391; Train Acc 0.998697; Val Acc 0.876020; Time 2110.694799;\n",
            "Epoch 18; Loss 0.094005; Train Acc 0.998371; Val Acc 0.882545; Time 2239.701481;\n",
            "Epoch 19; Loss 0.085307; Train Acc 0.998860; Val Acc 0.874388; Time 2354.040700;\n",
            "Epoch 20; Loss 0.079315; Train Acc 0.998860; Val Acc 0.885808; Time 2466.080520;\n",
            "Epoch 21; Loss 0.069418; Train Acc 0.999022; Val Acc 0.884176; Time 2583.591928;\n",
            "Epoch 22; Loss 0.070862; Train Acc 0.999022; Val Acc 0.877651; Time 2701.445172;\n",
            "Epoch 23; Loss 0.064602; Train Acc 0.998860; Val Acc 0.876020; Time 2831.383950;\n",
            "Epoch 24; Loss 0.060069; Train Acc 0.999185; Val Acc 0.876020; Time 2951.507951;\n",
            "Epoch 25; Loss 0.056521; Train Acc 0.999185; Val Acc 0.874388; Time 3073.487750;\n",
            "Epoch 26; Loss 0.052165; Train Acc 0.999022; Val Acc 0.877651; Time 3198.860240;\n",
            "Epoch 27; Loss 0.055272; Train Acc 0.999185; Val Acc 0.879282; Time 3316.033653;\n",
            "Epoch 28; Loss 0.055832; Train Acc 0.999185; Val Acc 0.872757; Time 3440.646447;\n",
            "Epoch 29; Loss 0.046048; Train Acc 0.999185; Val Acc 0.880914; Time 3555.358336;\n",
            "Epoch 30; Loss 0.042306; Train Acc 0.999185; Val Acc 0.876020; Time 3669.296267;\n"
          ],
          "name": "stdout"
        },
        {
          "output_type": "display_data",
          "data": {
            "image/png": "[encoded data removed]",
            "text/plain": [
              "<Figure size 432x288 with 1 Axes>"
            ]
          },
          "metadata": {
            "tags": [],
            "needs_background": "light"
          }
        },
        {
          "output_type": "display_data",
          "data": {
            "image/png": "[encoded data removed]",
            "text/plain": [
              "<Figure size 432x288 with 1 Axes>"
            ]
          },
          "metadata": {
            "tags": [],
            "needs_background": "light"
          }
        },
        {
          "output_type": "stream",
          "text": [
            "Final Training Accuracy: 0.9991854024112089\n",
            "Final Validation Accuracy: 0.8760195758564437\n",
            "Total time elapsed: 3669.30 seconds\n"
          ],
          "name": "stdout"
        }
      ]
    },
    {
      "cell_type": "code",
      "metadata": {
        "id": "50RjstHZP4ig",
        "colab_type": "code",
        "colab": {
          "base_uri": "https://localhost:8080/",
          "height": 1000
        },
        "outputId": "62e79701-3762-4d77-eaf6-2afad5928f3f"
      },
      "source": [
        "#Alexnet 256\n",
        "use_cuda = True\n",
        "\n",
        "model = AlexClassifier()\n",
        "\n",
        "if use_cuda and torch.cuda.is_available():\n",
        "  model.cuda()\n",
        "  print('CUDA is available!  Training on GPU ...')\n",
        "else:\n",
        "  print('CUDA is not available.  Training on CPU ...')\n",
        "\n",
        "#proper model\n",
        "train_loader, val_loader, test_loader = get_data_loader(256)\n",
        "train(model, train_loader, val_loader, batch_size=256, learning_rate = 0.005, num_epochs=30, weight_decay=0.001)"
      ],
      "execution_count": null,
      "outputs": [
        {
          "output_type": "stream",
          "text": [
            "CUDA is not available.  Training on CPU ...\n",
            "Epoch 1; Loss 3.974197; Train Acc 0.431085; Val Acc 0.308320; Time 255.335816;\n",
            "Epoch 2; Loss 1.962579; Train Acc 0.780547; Val Acc 0.634584; Time 496.640925;\n",
            "Epoch 3; Loss 0.805164; Train Acc 0.918540; Val Acc 0.787928; Time 727.979902;\n",
            "Epoch 4; Loss 0.491094; Train Acc 0.958781; Val Acc 0.814029; Time 952.350388;\n",
            "Epoch 5; Loss 0.396048; Train Acc 0.977680; Val Acc 0.845024; Time 1179.487929;\n",
            "Epoch 6; Loss 0.223025; Train Acc 0.988596; Val Acc 0.862969; Time 1411.729262;\n",
            "Epoch 7; Loss 0.169525; Train Acc 0.994787; Val Acc 0.849918; Time 1646.801942;\n",
            "Epoch 8; Loss 0.119338; Train Acc 0.996253; Val Acc 0.854812; Time 1885.261312;\n",
            "Epoch 9; Loss 0.117245; Train Acc 0.997067; Val Acc 0.861338; Time 2126.820733;\n",
            "Epoch 10; Loss 0.079176; Train Acc 0.998371; Val Acc 0.866232; Time 2364.309333;\n",
            "Epoch 11; Loss 0.062115; Train Acc 0.998697; Val Acc 0.876020; Time 2590.370096;\n",
            "Epoch 12; Loss 0.077258; Train Acc 0.998697; Val Acc 0.876020; Time 2825.312806;\n",
            "Epoch 13; Loss 0.056239; Train Acc 0.998697; Val Acc 0.874388; Time 3065.925526;\n",
            "Epoch 14; Loss 0.057113; Train Acc 0.998697; Val Acc 0.879282; Time 3308.628929;\n",
            "Epoch 15; Loss 0.042168; Train Acc 0.998697; Val Acc 0.880914; Time 3551.603304;\n",
            "Epoch 16; Loss 0.038190; Train Acc 0.998208; Val Acc 0.874388; Time 3795.388848;\n",
            "Epoch 17; Loss 0.039172; Train Acc 0.999022; Val Acc 0.879282; Time 4042.428265;\n",
            "Epoch 18; Loss 0.035350; Train Acc 0.999348; Val Acc 0.880914; Time 4273.823977;\n",
            "Epoch 19; Loss 0.038325; Train Acc 0.999022; Val Acc 0.876020; Time 4506.752074;\n",
            "Epoch 20; Loss 0.035290; Train Acc 0.999022; Val Acc 0.879282; Time 4741.707503;\n",
            "Epoch 21; Loss 0.032501; Train Acc 0.999022; Val Acc 0.877651; Time 4980.348839;\n",
            "Epoch 22; Loss 0.032292; Train Acc 0.999022; Val Acc 0.880914; Time 5218.550358;\n",
            "Epoch 23; Loss 0.025845; Train Acc 0.999022; Val Acc 0.879282; Time 5456.513222;\n",
            "Epoch 24; Loss 0.027379; Train Acc 0.999022; Val Acc 0.880914; Time 5697.443666;\n",
            "Epoch 25; Loss 0.023260; Train Acc 0.999022; Val Acc 0.874388; Time 5936.659694;\n",
            "Epoch 26; Loss 0.022117; Train Acc 0.999185; Val Acc 0.879282; Time 6192.597666;\n",
            "Epoch 27; Loss 0.030139; Train Acc 0.998045; Val Acc 0.879282; Time 6447.520059;\n",
            "Epoch 28; Loss 0.019048; Train Acc 0.999022; Val Acc 0.879282; Time 6686.765478;\n",
            "Epoch 29; Loss 0.019790; Train Acc 0.999022; Val Acc 0.879282; Time 6936.850917;\n",
            "Epoch 30; Loss 0.028426; Train Acc 0.998534; Val Acc 0.877651; Time 7181.264562;\n"
          ],
          "name": "stdout"
        },
        {
          "output_type": "display_data",
          "data": {
            "image/png": "[encoded data removed]",
            "text/plain": [
              "<Figure size 432x288 with 1 Axes>"
            ]
          },
          "metadata": {
            "tags": [],
            "needs_background": "light"
          }
        },
        {
          "output_type": "display_data",
          "data": {
            "image/png": "[encoded data removed]",
            "text/plain": [
              "<Figure size 432x288 with 1 Axes>"
            ]
          },
          "metadata": {
            "tags": [],
            "needs_background": "light"
          }
        },
        {
          "output_type": "stream",
          "text": [
            "Final Training Accuracy: 0.998533724340176\n",
            "Final Validation Accuracy: 0.8776508972267537\n",
            "Total time elapsed: 7181.26 seconds\n"
          ],
          "name": "stdout"
        }
      ]
    },
    {
      "cell_type": "code",
      "metadata": {
        "id": "A-q5CBmdIwqv",
        "colab_type": "code",
        "colab": {}
      },
      "source": [
        ""
      ],
      "execution_count": null,
      "outputs": []
    },
    {
      "cell_type": "code",
      "metadata": {
        "id": "fYcakYrqfBoK",
        "colab_type": "code",
        "colab": {}
      },
      "source": [
        "#read file from paused location\n",
        "model_path = get_model_name(batch_size=512, learning_rate=0.005, epoch=17)\n",
        "get_saved_data_info(model_path)"
      ],
      "execution_count": null,
      "outputs": []
    },
    {
      "cell_type": "code",
      "metadata": {
        "id": "sPVsQ4JlfJMW",
        "colab_type": "code",
        "colab": {}
      },
      "source": [
        "#Alexnet start from pause\n",
        "use_cuda = True\n",
        "\n",
        "model = AlexClassifier()\n",
        "\n",
        "if use_cuda and torch.cuda.is_available():\n",
        "  model.cuda()\n",
        "  print('CUDA is available!  Training on GPU ...')\n",
        "else:\n",
        "  print('CUDA is not available.  Training on CPU ...')\n",
        "\n",
        "#proper model\n",
        "model_path = get_model_name(batch_size=512, epoch=23, learning_rate=0.005)\n",
        "train_loader, val_loader, test_loader = get_data_loader(512)\n",
        "train(model, train_loader, val_loader, batch_size=512, num_epochs=7, learning_rate=0.005, save_data_path=model_path, weight_decay=0.001)"
      ],
      "execution_count": null,
      "outputs": []
    }
  ]
}