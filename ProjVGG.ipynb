{
  "nbformat": 4,
  "nbformat_minor": 0,
  "metadata": {
    "colab": {
      "name": "ProjVGG.ipynb",
      "provenance": [],
      "collapsed_sections": [],
      "machine_shape": "hm"
    },
    "kernelspec": {
      "name": "python3",
      "display_name": "Python 3"
    },
    "accelerator": "GPU",
    "widgets": {
      "application/vnd.jupyter.widget-state+json": {
        "e14c5d0abdb74eb1a120d6e3b43a430e": {
          "model_module": "@jupyter-widgets/controls",
          "model_name": "HBoxModel",
          "state": {
            "_view_name": "HBoxView",
            "_dom_classes": [],
            "_model_name": "HBoxModel",
            "_view_module": "@jupyter-widgets/controls",
            "_model_module_version": "1.5.0",
            "_view_count": null,
            "_view_module_version": "1.5.0",
            "box_style": "",
            "layout": "IPY_MODEL_7c863fc2b8514fe3a824d65083c230c6",
            "_model_module": "@jupyter-widgets/controls",
            "children": [
              "IPY_MODEL_a190476c046d4e44bb0e55de110816a0",
              "IPY_MODEL_0f3bb800b48e4cad864ab4da8117c30a"
            ]
          }
        },
        "7c863fc2b8514fe3a824d65083c230c6": {
          "model_module": "@jupyter-widgets/base",
          "model_name": "LayoutModel",
          "state": {
            "_view_name": "LayoutView",
            "grid_template_rows": null,
            "right": null,
            "justify_content": null,
            "_view_module": "@jupyter-widgets/base",
            "overflow": null,
            "_model_module_version": "1.2.0",
            "_view_count": null,
            "flex_flow": null,
            "width": null,
            "min_width": null,
            "border": null,
            "align_items": null,
            "bottom": null,
            "_model_module": "@jupyter-widgets/base",
            "top": null,
            "grid_column": null,
            "overflow_y": null,
            "overflow_x": null,
            "grid_auto_flow": null,
            "grid_area": null,
            "grid_template_columns": null,
            "flex": null,
            "_model_name": "LayoutModel",
            "justify_items": null,
            "grid_row": null,
            "max_height": null,
            "align_content": null,
            "visibility": null,
            "align_self": null,
            "height": null,
            "min_height": null,
            "padding": null,
            "grid_auto_rows": null,
            "grid_gap": null,
            "max_width": null,
            "order": null,
            "_view_module_version": "1.2.0",
            "grid_template_areas": null,
            "object_position": null,
            "object_fit": null,
            "grid_auto_columns": null,
            "margin": null,
            "display": null,
            "left": null
          }
        },
        "a190476c046d4e44bb0e55de110816a0": {
          "model_module": "@jupyter-widgets/controls",
          "model_name": "FloatProgressModel",
          "state": {
            "_view_name": "ProgressView",
            "style": "IPY_MODEL_3db69b6184794193a52e6c834f83a383",
            "_dom_classes": [],
            "description": "100%",
            "_model_name": "FloatProgressModel",
            "bar_style": "success",
            "max": 244418560,
            "_view_module": "@jupyter-widgets/controls",
            "_model_module_version": "1.5.0",
            "value": 244418560,
            "_view_count": null,
            "_view_module_version": "1.5.0",
            "orientation": "horizontal",
            "min": 0,
            "description_tooltip": null,
            "_model_module": "@jupyter-widgets/controls",
            "layout": "IPY_MODEL_e1daf185e93c4c479e1cf3b6ae2c0840"
          }
        },
        "0f3bb800b48e4cad864ab4da8117c30a": {
          "model_module": "@jupyter-widgets/controls",
          "model_name": "HTMLModel",
          "state": {
            "_view_name": "HTMLView",
            "style": "IPY_MODEL_29d4c262c59d424d8ff8c4ca784997d4",
            "_dom_classes": [],
            "description": "",
            "_model_name": "HTMLModel",
            "placeholder": "​",
            "_view_module": "@jupyter-widgets/controls",
            "_model_module_version": "1.5.0",
            "value": " 233M/233M [00:10&lt;00:00, 23.7MB/s]",
            "_view_count": null,
            "_view_module_version": "1.5.0",
            "description_tooltip": null,
            "_model_module": "@jupyter-widgets/controls",
            "layout": "IPY_MODEL_3e9072acc94b4794a0ff3242342bc46e"
          }
        },
        "3db69b6184794193a52e6c834f83a383": {
          "model_module": "@jupyter-widgets/controls",
          "model_name": "ProgressStyleModel",
          "state": {
            "_view_name": "StyleView",
            "_model_name": "ProgressStyleModel",
            "description_width": "initial",
            "_view_module": "@jupyter-widgets/base",
            "_model_module_version": "1.5.0",
            "_view_count": null,
            "_view_module_version": "1.2.0",
            "bar_color": null,
            "_model_module": "@jupyter-widgets/controls"
          }
        },
        "e1daf185e93c4c479e1cf3b6ae2c0840": {
          "model_module": "@jupyter-widgets/base",
          "model_name": "LayoutModel",
          "state": {
            "_view_name": "LayoutView",
            "grid_template_rows": null,
            "right": null,
            "justify_content": null,
            "_view_module": "@jupyter-widgets/base",
            "overflow": null,
            "_model_module_version": "1.2.0",
            "_view_count": null,
            "flex_flow": null,
            "width": null,
            "min_width": null,
            "border": null,
            "align_items": null,
            "bottom": null,
            "_model_module": "@jupyter-widgets/base",
            "top": null,
            "grid_column": null,
            "overflow_y": null,
            "overflow_x": null,
            "grid_auto_flow": null,
            "grid_area": null,
            "grid_template_columns": null,
            "flex": null,
            "_model_name": "LayoutModel",
            "justify_items": null,
            "grid_row": null,
            "max_height": null,
            "align_content": null,
            "visibility": null,
            "align_self": null,
            "height": null,
            "min_height": null,
            "padding": null,
            "grid_auto_rows": null,
            "grid_gap": null,
            "max_width": null,
            "order": null,
            "_view_module_version": "1.2.0",
            "grid_template_areas": null,
            "object_position": null,
            "object_fit": null,
            "grid_auto_columns": null,
            "margin": null,
            "display": null,
            "left": null
          }
        },
        "29d4c262c59d424d8ff8c4ca784997d4": {
          "model_module": "@jupyter-widgets/controls",
          "model_name": "DescriptionStyleModel",
          "state": {
            "_view_name": "StyleView",
            "_model_name": "DescriptionStyleModel",
            "description_width": "",
            "_view_module": "@jupyter-widgets/base",
            "_model_module_version": "1.5.0",
            "_view_count": null,
            "_view_module_version": "1.2.0",
            "_model_module": "@jupyter-widgets/controls"
          }
        },
        "3e9072acc94b4794a0ff3242342bc46e": {
          "model_module": "@jupyter-widgets/base",
          "model_name": "LayoutModel",
          "state": {
            "_view_name": "LayoutView",
            "grid_template_rows": null,
            "right": null,
            "justify_content": null,
            "_view_module": "@jupyter-widgets/base",
            "overflow": null,
            "_model_module_version": "1.2.0",
            "_view_count": null,
            "flex_flow": null,
            "width": null,
            "min_width": null,
            "border": null,
            "align_items": null,
            "bottom": null,
            "_model_module": "@jupyter-widgets/base",
            "top": null,
            "grid_column": null,
            "overflow_y": null,
            "overflow_x": null,
            "grid_auto_flow": null,
            "grid_area": null,
            "grid_template_columns": null,
            "flex": null,
            "_model_name": "LayoutModel",
            "justify_items": null,
            "grid_row": null,
            "max_height": null,
            "align_content": null,
            "visibility": null,
            "align_self": null,
            "height": null,
            "min_height": null,
            "padding": null,
            "grid_auto_rows": null,
            "grid_gap": null,
            "max_width": null,
            "order": null,
            "_view_module_version": "1.2.0",
            "grid_template_areas": null,
            "object_position": null,
            "object_fit": null,
            "grid_auto_columns": null,
            "margin": null,
            "display": null,
            "left": null
          }
        },
        "4d66779a7fc64ba3af0bcdd8732dc5d6": {
          "model_module": "@jupyter-widgets/controls",
          "model_name": "HBoxModel",
          "state": {
            "_view_name": "HBoxView",
            "_dom_classes": [],
            "_model_name": "HBoxModel",
            "_view_module": "@jupyter-widgets/controls",
            "_model_module_version": "1.5.0",
            "_view_count": null,
            "_view_module_version": "1.5.0",
            "box_style": "",
            "layout": "IPY_MODEL_ff84fb39820d43c8b34d97d36d6fb338",
            "_model_module": "@jupyter-widgets/controls",
            "children": [
              "IPY_MODEL_17eb53d5c3a24a60ac05fd3c89db84bb",
              "IPY_MODEL_60f065f6c4f84965898fcc644ccbc534"
            ]
          }
        },
        "ff84fb39820d43c8b34d97d36d6fb338": {
          "model_module": "@jupyter-widgets/base",
          "model_name": "LayoutModel",
          "state": {
            "_view_name": "LayoutView",
            "grid_template_rows": null,
            "right": null,
            "justify_content": null,
            "_view_module": "@jupyter-widgets/base",
            "overflow": null,
            "_model_module_version": "1.2.0",
            "_view_count": null,
            "flex_flow": null,
            "width": null,
            "min_width": null,
            "border": null,
            "align_items": null,
            "bottom": null,
            "_model_module": "@jupyter-widgets/base",
            "top": null,
            "grid_column": null,
            "overflow_y": null,
            "overflow_x": null,
            "grid_auto_flow": null,
            "grid_area": null,
            "grid_template_columns": null,
            "flex": null,
            "_model_name": "LayoutModel",
            "justify_items": null,
            "grid_row": null,
            "max_height": null,
            "align_content": null,
            "visibility": null,
            "align_self": null,
            "height": null,
            "min_height": null,
            "padding": null,
            "grid_auto_rows": null,
            "grid_gap": null,
            "max_width": null,
            "order": null,
            "_view_module_version": "1.2.0",
            "grid_template_areas": null,
            "object_position": null,
            "object_fit": null,
            "grid_auto_columns": null,
            "margin": null,
            "display": null,
            "left": null
          }
        },
        "17eb53d5c3a24a60ac05fd3c89db84bb": {
          "model_module": "@jupyter-widgets/controls",
          "model_name": "FloatProgressModel",
          "state": {
            "_view_name": "ProgressView",
            "style": "IPY_MODEL_62008f2f6eca4aab80288162b53170b7",
            "_dom_classes": [],
            "description": "100%",
            "_model_name": "FloatProgressModel",
            "bar_style": "success",
            "max": 553433881,
            "_view_module": "@jupyter-widgets/controls",
            "_model_module_version": "1.5.0",
            "value": 553433881,
            "_view_count": null,
            "_view_module_version": "1.5.0",
            "orientation": "horizontal",
            "min": 0,
            "description_tooltip": null,
            "_model_module": "@jupyter-widgets/controls",
            "layout": "IPY_MODEL_49ee66f7d03e4eb49c1ab37551c5f73b"
          }
        },
        "60f065f6c4f84965898fcc644ccbc534": {
          "model_module": "@jupyter-widgets/controls",
          "model_name": "HTMLModel",
          "state": {
            "_view_name": "HTMLView",
            "style": "IPY_MODEL_8474a31fc17c48aca2a53753585a4732",
            "_dom_classes": [],
            "description": "",
            "_model_name": "HTMLModel",
            "placeholder": "​",
            "_view_module": "@jupyter-widgets/controls",
            "_model_module_version": "1.5.0",
            "value": " 528M/528M [00:02&lt;00:00, 243MB/s]",
            "_view_count": null,
            "_view_module_version": "1.5.0",
            "description_tooltip": null,
            "_model_module": "@jupyter-widgets/controls",
            "layout": "IPY_MODEL_6eb356d98c664ee989232ce9d9653561"
          }
        },
        "62008f2f6eca4aab80288162b53170b7": {
          "model_module": "@jupyter-widgets/controls",
          "model_name": "ProgressStyleModel",
          "state": {
            "_view_name": "StyleView",
            "_model_name": "ProgressStyleModel",
            "description_width": "initial",
            "_view_module": "@jupyter-widgets/base",
            "_model_module_version": "1.5.0",
            "_view_count": null,
            "_view_module_version": "1.2.0",
            "bar_color": null,
            "_model_module": "@jupyter-widgets/controls"
          }
        },
        "49ee66f7d03e4eb49c1ab37551c5f73b": {
          "model_module": "@jupyter-widgets/base",
          "model_name": "LayoutModel",
          "state": {
            "_view_name": "LayoutView",
            "grid_template_rows": null,
            "right": null,
            "justify_content": null,
            "_view_module": "@jupyter-widgets/base",
            "overflow": null,
            "_model_module_version": "1.2.0",
            "_view_count": null,
            "flex_flow": null,
            "width": null,
            "min_width": null,
            "border": null,
            "align_items": null,
            "bottom": null,
            "_model_module": "@jupyter-widgets/base",
            "top": null,
            "grid_column": null,
            "overflow_y": null,
            "overflow_x": null,
            "grid_auto_flow": null,
            "grid_area": null,
            "grid_template_columns": null,
            "flex": null,
            "_model_name": "LayoutModel",
            "justify_items": null,
            "grid_row": null,
            "max_height": null,
            "align_content": null,
            "visibility": null,
            "align_self": null,
            "height": null,
            "min_height": null,
            "padding": null,
            "grid_auto_rows": null,
            "grid_gap": null,
            "max_width": null,
            "order": null,
            "_view_module_version": "1.2.0",
            "grid_template_areas": null,
            "object_position": null,
            "object_fit": null,
            "grid_auto_columns": null,
            "margin": null,
            "display": null,
            "left": null
          }
        },
        "8474a31fc17c48aca2a53753585a4732": {
          "model_module": "@jupyter-widgets/controls",
          "model_name": "DescriptionStyleModel",
          "state": {
            "_view_name": "StyleView",
            "_model_name": "DescriptionStyleModel",
            "description_width": "",
            "_view_module": "@jupyter-widgets/base",
            "_model_module_version": "1.5.0",
            "_view_count": null,
            "_view_module_version": "1.2.0",
            "_model_module": "@jupyter-widgets/controls"
          }
        },
        "6eb356d98c664ee989232ce9d9653561": {
          "model_module": "@jupyter-widgets/base",
          "model_name": "LayoutModel",
          "state": {
            "_view_name": "LayoutView",
            "grid_template_rows": null,
            "right": null,
            "justify_content": null,
            "_view_module": "@jupyter-widgets/base",
            "overflow": null,
            "_model_module_version": "1.2.0",
            "_view_count": null,
            "flex_flow": null,
            "width": null,
            "min_width": null,
            "border": null,
            "align_items": null,
            "bottom": null,
            "_model_module": "@jupyter-widgets/base",
            "top": null,
            "grid_column": null,
            "overflow_y": null,
            "overflow_x": null,
            "grid_auto_flow": null,
            "grid_area": null,
            "grid_template_columns": null,
            "flex": null,
            "_model_name": "LayoutModel",
            "justify_items": null,
            "grid_row": null,
            "max_height": null,
            "align_content": null,
            "visibility": null,
            "align_self": null,
            "height": null,
            "min_height": null,
            "padding": null,
            "grid_auto_rows": null,
            "grid_gap": null,
            "max_width": null,
            "order": null,
            "_view_module_version": "1.2.0",
            "grid_template_areas": null,
            "object_position": null,
            "object_fit": null,
            "grid_auto_columns": null,
            "margin": null,
            "display": null,
            "left": null
          }
        }
      }
    }
  },
  "cells": [
    {
      "cell_type": "code",
      "metadata": {
        "id": "UNznZwPPb3sJ",
        "colab_type": "code",
        "colab": {
          "resources": {
            "http://localhost:8080/nbextensions/google.colab/files.js": {
              "data": "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",
              "ok": true,
              "headers": [
                [
                  "content-type",
                  "application/javascript"
                ]
              ],
              "status": 200,
              "status_text": ""
            }
          },
          "base_uri": "https://localhost:8080/",
          "height": 91
        },
        "outputId": "ab795918-36ca-43ca-d05f-9ea985248dbd"
      },
      "source": [
        "2! pip install -q kaggle\n",
        "from google.colab import files\n",
        "files.upload()"
      ],
      "execution_count": null,
      "outputs": [
        {
          "output_type": "display_data",
          "data": {
            "text/html": [
              "\n",
              "     <input type=\"file\" id=\"files-70ac0623-88e8-4b6c-b45c-eb4e221a5853\" name=\"files[]\" multiple disabled\n",
              "        style=\"border:none\" />\n",
              "     <output id=\"result-70ac0623-88e8-4b6c-b45c-eb4e221a5853\">\n",
              "      Upload widget is only available when the cell has been executed in the\n",
              "      current browser session. Please rerun this cell to enable.\n",
              "      </output>\n",
              "      <script src=\"/nbextensions/google.colab/files.js\"></script> "
            ],
            "text/plain": [
              "<IPython.core.display.HTML object>"
            ]
          },
          "metadata": {
            "tags": []
          }
        },
        {
          "output_type": "stream",
          "text": [
            "Saving kaggle.json to kaggle.json\n"
          ],
          "name": "stdout"
        },
        {
          "output_type": "execute_result",
          "data": {
            "text/plain": [
              "{'kaggle.json': b'{\"username\":\"jingwilliam\",\"key\":\"e744f9cd0b0604ab5aeb941637300726\"}'}"
            ]
          },
          "metadata": {
            "tags": []
          },
          "execution_count": 1
        }
      ]
    },
    {
      "cell_type": "code",
      "metadata": {
        "id": "9hybqHmr1KlU",
        "colab_type": "code",
        "colab": {
          "base_uri": "https://localhost:8080/",
          "height": 126
        },
        "outputId": "ca23f232-a581-4a51-8926-e5eadc685eb0"
      },
      "source": [
        "from google.colab import drive\n",
        "drive.mount('/content/drive')"
      ],
      "execution_count": null,
      "outputs": [
        {
          "output_type": "stream",
          "text": [
            "Go to this URL in a browser: https://accounts.google.com/o/oauth2/auth?client_id=947318989803-6bn6qk8qdgf4n4g3pfee6491hc0brc4i.apps.googleusercontent.com&redirect_uri=urn%3aietf%3awg%3aoauth%3a2.0%3aoob&response_type=code&scope=email%20https%3a%2f%2fwww.googleapis.com%2fauth%2fdocs.test%20https%3a%2f%2fwww.googleapis.com%2fauth%2fdrive%20https%3a%2f%2fwww.googleapis.com%2fauth%2fdrive.photos.readonly%20https%3a%2f%2fwww.googleapis.com%2fauth%2fpeopleapi.readonly\n",
            "\n",
            "Enter your authorization code:\n",
            "··········\n",
            "Mounted at /content/drive\n"
          ],
          "name": "stdout"
        }
      ]
    },
    {
      "cell_type": "code",
      "metadata": {
        "id": "OgDDQsiEcIKT",
        "colab_type": "code",
        "colab": {
          "base_uri": "https://localhost:8080/",
          "height": 205,
          "referenced_widgets": [
            "e14c5d0abdb74eb1a120d6e3b43a430e",
            "7c863fc2b8514fe3a824d65083c230c6",
            "a190476c046d4e44bb0e55de110816a0",
            "0f3bb800b48e4cad864ab4da8117c30a",
            "3db69b6184794193a52e6c834f83a383",
            "e1daf185e93c4c479e1cf3b6ae2c0840",
            "29d4c262c59d424d8ff8c4ca784997d4",
            "3e9072acc94b4794a0ff3242342bc46e",
            "4d66779a7fc64ba3af0bcdd8732dc5d6",
            "ff84fb39820d43c8b34d97d36d6fb338",
            "17eb53d5c3a24a60ac05fd3c89db84bb",
            "60f065f6c4f84965898fcc644ccbc534",
            "62008f2f6eca4aab80288162b53170b7",
            "49ee66f7d03e4eb49c1ab37551c5f73b",
            "8474a31fc17c48aca2a53753585a4732",
            "6eb356d98c664ee989232ce9d9653561"
          ]
        },
        "outputId": "a1dd10ec-5388-4d65-eef3-6b1715a14a79"
      },
      "source": [
        "! mkdir ~/.kaggle\n",
        "! cp kaggle.json ~/.kaggle/\n",
        "! chmod 600 ~/.kaggle/kaggle.json\n",
        "\n",
        "#! kaggle datasets download --unzip thedagger/pokemon-generation-one\n",
        "\n",
        "! kaggle datasets download --unzip lantian773030/pokemonclassification\n",
        "# rm dataset/dataset/ -rf\n",
        "\n",
        "import torch\n",
        "import torch.nn as nn\n",
        "import torch.nn.functional as F\n",
        "from torch.utils.data.sampler import SubsetRandomSampler\n",
        "\n",
        "import matplotlib.pyplot as plt # for plotting\n",
        "import torch.optim as optim #for gradient descent\n",
        "import numpy as np\n",
        "import time\n",
        "\n",
        "torch.manual_seed(1) # set the random seed\n",
        "\n",
        "# obtain data\n",
        "from torchvision import datasets, transforms\n",
        "\n",
        "import torchvision.models\n",
        "alexnet = torchvision.models.alexnet(pretrained=True)\n",
        "vgg16 = torchvision.models.vgg16(pretrained=True)"
      ],
      "execution_count": null,
      "outputs": [
        {
          "output_type": "stream",
          "text": [
            "Downloading pokemonclassification.zip to /content\n",
            " 99% 411M/417M [00:06<00:00, 76.1MB/s]\n",
            "100% 417M/417M [00:06<00:00, 63.6MB/s]\n"
          ],
          "name": "stdout"
        },
        {
          "output_type": "stream",
          "text": [
            "Downloading: \"https://download.pytorch.org/models/alexnet-owt-4df8aa71.pth\" to /root/.cache/torch/checkpoints/alexnet-owt-4df8aa71.pth\n"
          ],
          "name": "stderr"
        },
        {
          "output_type": "display_data",
          "data": {
            "application/vnd.jupyter.widget-view+json": {
              "model_id": "e14c5d0abdb74eb1a120d6e3b43a430e",
              "version_minor": 0,
              "version_major": 2
            },
            "text/plain": [
              "HBox(children=(FloatProgress(value=0.0, max=244418560.0), HTML(value='')))"
            ]
          },
          "metadata": {
            "tags": []
          }
        },
        {
          "output_type": "stream",
          "text": [
            "\n"
          ],
          "name": "stdout"
        },
        {
          "output_type": "stream",
          "text": [
            "Downloading: \"https://download.pytorch.org/models/vgg16-397923af.pth\" to /root/.cache/torch/checkpoints/vgg16-397923af.pth\n"
          ],
          "name": "stderr"
        },
        {
          "output_type": "display_data",
          "data": {
            "application/vnd.jupyter.widget-view+json": {
              "model_id": "4d66779a7fc64ba3af0bcdd8732dc5d6",
              "version_minor": 0,
              "version_major": 2
            },
            "text/plain": [
              "HBox(children=(FloatProgress(value=0.0, max=553433881.0), HTML(value='')))"
            ]
          },
          "metadata": {
            "tags": []
          }
        },
        {
          "output_type": "stream",
          "text": [
            "\n"
          ],
          "name": "stdout"
        }
      ]
    },
    {
      "cell_type": "code",
      "metadata": {
        "id": "SSTXPYNFcNB4",
        "colab_type": "code",
        "colab": {}
      },
      "source": [
        "def get_model_name(path=\"/content/drive/My Drive/project/vgg\", batch_size=64, learning_rate=0.01, epoch=30):\n",
        "    path = \"{}/poke7k_bs{}_lr{}_epoch{}\".format(path,\n",
        "            batch_size, learning_rate, epoch)\n",
        "    return path\n",
        "\n",
        "def get_data_loader(batch_size):\n",
        "    \"\"\" Loads images of cats and dogs, splits the data into training, validation\n",
        "    and testing datasets. Returns data loaders for the three preprocessed datasets.\n",
        "\n",
        "    Args:\n",
        "        target_classes: A list of strings denoting the name of the desired\n",
        "                        classes. Should be a subset of the argument 'classes'\n",
        "        batch_size: A int representing the number of samples per batch\n",
        "    \n",
        "    Returns:\n",
        "        train_loader: iterable training dataset organized according to batch size\n",
        "        val_loader: iterable validation dataset organized according to batch size\n",
        "        test_loader: iterable testing dataset organized according to batch size\n",
        "        classes: A list of strings denoting the name of each class\n",
        "    \"\"\"\n",
        "\n",
        "    ########################################################################\n",
        "    # The output of torchvision datasets are PILImage images of range [0, 1].\n",
        "    # We transform them to Tensors of normalized range [-1, 1].\n",
        "    transform = transforms.Compose(\n",
        "        [transforms.Resize((224,224)), \n",
        "         transforms.ToTensor(),\n",
        "         transforms.Normalize((0.5, 0.5, 0.5), (0.5, 0.5, 0.5))])\n",
        "    # Load training data\n",
        "    #train_path = 'PokemonData/'                                                                            #for CNN\n",
        "    #datas = datasets.ImageFolder(train_path,transform)                                                     #CNN\n",
        "    features_path = '/content/drive/My Drive/vgg16_features'                                                  #Alexnet\n",
        "    datas = torchvision.datasets.DatasetFolder(features_path, loader=torch.load, extensions=('.tensor'))    #alexnet\n",
        "\n",
        "    # Get the list of indices to sample from\n",
        "    relevant_indices = []\n",
        "    for i in range(len(datas)): relevant_indices.append(i)\n",
        "    # Split into train and validation\n",
        "    np.random.seed(1000) # Fixed numpy random seed for reproducible shuffling\n",
        "    np.random.shuffle(relevant_indices)\n",
        "    split = int(len(relevant_indices) * 0.9) #split at 90%\n",
        "    split1 = int(len(relevant_indices) * 0.99) #split at 99%\n",
        "    \n",
        "    # split into training, validation and testing indices\n",
        "    relevant_train_indices, relevant_val_indices, relevant_test_indices = relevant_indices[:split], relevant_indices[split:split1], relevant_indices[split1:]  \n",
        "  \n",
        "    \n",
        "    train_sampler = SubsetRandomSampler(relevant_train_indices)\n",
        "    train_loader = torch.utils.data.DataLoader(datas, batch_size=batch_size,\n",
        "                                              num_workers=1, sampler=train_sampler)\n",
        "    val_sampler = SubsetRandomSampler(relevant_val_indices)\n",
        "    val_loader = torch.utils.data.DataLoader(datas, batch_size=batch_size,\n",
        "                                              num_workers=1, sampler=val_sampler)\n",
        "    test_sampler = SubsetRandomSampler(relevant_test_indices)\n",
        "    test_loader = torch.utils.data.DataLoader(datas, batch_size=batch_size,\n",
        "                                              num_workers=1, sampler=test_sampler)\n",
        "\n",
        "    return train_loader, val_loader, test_loader"
      ],
      "execution_count": null,
      "outputs": []
    },
    {
      "cell_type": "code",
      "metadata": {
        "id": "et-_jIRx27C9",
        "colab_type": "code",
        "colab": {
          "base_uri": "https://localhost:8080/",
          "height": 548
        },
        "outputId": "3fd5d1c0-0168-435f-9814-f3f97fb4cb1c"
      },
      "source": [
        "import torchvision.models\n",
        "import os\n",
        "alexnet = torchvision.models.alexnet(pretrained=True)\n",
        "vgg16 = torchvision.models.vgg16(pretrained=True)\n",
        "\n",
        "transform  = transforms.Compose([\n",
        "    transforms.Resize((224,224)),\n",
        "    transforms.ToTensor(),\n",
        "    transforms.Normalize((0.5, 0.5, 0.5), (0.5, 0.5, 0.5))])\n",
        "train_path = 'PokemonData/'\n",
        "datas = datasets.ImageFolder(train_path,transform)\n",
        "\n",
        "classes = []\n",
        "for root, dirs, files in os.walk(\"PokemonData\"):\n",
        "    for dir in dirs:\n",
        "        classes.append(dir)\n",
        "classes.sort()\n",
        "\n",
        "#alexnet_data = torch.utils.data.DataLoader(datas, batch_size=1, num_workers=1, shuffle=False)\n",
        "#vgg16_data = torch.utils.data.DataLoader(datas, batch_size=1, num_workers=1, shuffle=False)\n",
        "datas = torch.utils.data.DataLoader(datas, batch_size=1, num_workers=1, shuffle=False)\n",
        "\n",
        "#features_path = '/content/drive/My Drive/p7k_features'\n",
        "features_path = '/content/drive/My Drive/vgg16_features'\n",
        "\n",
        "\n",
        "n=0\n",
        "\n",
        "for img, label in datas:\n",
        "    feature = vgg16.features(img)\n",
        "    feature = torch.from_numpy(feature.detach().numpy())\n",
        "\n",
        "    dir = features_path + '/' + str(classes[label])\n",
        "    if not os.path.isdir(dir):\n",
        "      os.mkdir(dir)\n",
        "\n",
        "    torch.save(feature.squeeze(0), dir + '/' + str(n) + '.tensor')\n",
        "    n += 1"
      ],
      "execution_count": null,
      "outputs": [
        {
          "output_type": "stream",
          "text": [
            "Traceback (most recent call last):\n",
            "  File \"/usr/lib/python3.6/multiprocessing/queues.py\", line 240, in _feed\n",
            "    send_bytes(obj)\n",
            "  File \"/usr/lib/python3.6/multiprocessing/connection.py\", line 200, in send_bytes\n",
            "    self._send_bytes(m[offset:offset + size])\n",
            "  File \"/usr/lib/python3.6/multiprocessing/connection.py\", line 404, in _send_bytes\n",
            "    self._send(header + buf)\n",
            "  File \"/usr/lib/python3.6/multiprocessing/connection.py\", line 368, in _send\n",
            "    n = write(self._handle, buf)\n",
            "BrokenPipeError: [Errno 32] Broken pipe\n"
          ],
          "name": "stderr"
        },
        {
          "output_type": "error",
          "ename": "KeyboardInterrupt",
          "evalue": "ignored",
          "traceback": [
            "\u001b[0;31m---------------------------------------------------------------------------\u001b[0m",
            "\u001b[0;31mKeyboardInterrupt\u001b[0m                         Traceback (most recent call last)",
            "\u001b[0;32m<ipython-input-5-f4d542db3478>\u001b[0m in \u001b[0;36m<module>\u001b[0;34m()\u001b[0m\n\u001b[1;32m     35\u001b[0m       \u001b[0mos\u001b[0m\u001b[0;34m.\u001b[0m\u001b[0mmkdir\u001b[0m\u001b[0;34m(\u001b[0m\u001b[0mdir\u001b[0m\u001b[0;34m)\u001b[0m\u001b[0;34m\u001b[0m\u001b[0;34m\u001b[0m\u001b[0m\n\u001b[1;32m     36\u001b[0m \u001b[0;34m\u001b[0m\u001b[0m\n\u001b[0;32m---> 37\u001b[0;31m     \u001b[0mtorch\u001b[0m\u001b[0;34m.\u001b[0m\u001b[0msave\u001b[0m\u001b[0;34m(\u001b[0m\u001b[0mfeature\u001b[0m\u001b[0;34m.\u001b[0m\u001b[0msqueeze\u001b[0m\u001b[0;34m(\u001b[0m\u001b[0;36m0\u001b[0m\u001b[0;34m)\u001b[0m\u001b[0;34m,\u001b[0m \u001b[0mdir\u001b[0m \u001b[0;34m+\u001b[0m \u001b[0;34m'/'\u001b[0m \u001b[0;34m+\u001b[0m \u001b[0mstr\u001b[0m\u001b[0;34m(\u001b[0m\u001b[0mn\u001b[0m\u001b[0;34m)\u001b[0m \u001b[0;34m+\u001b[0m \u001b[0;34m'.tensor'\u001b[0m\u001b[0;34m)\u001b[0m\u001b[0;34m\u001b[0m\u001b[0;34m\u001b[0m\u001b[0m\n\u001b[0m\u001b[1;32m     38\u001b[0m     \u001b[0mn\u001b[0m \u001b[0;34m+=\u001b[0m \u001b[0;36m1\u001b[0m\u001b[0;34m\u001b[0m\u001b[0;34m\u001b[0m\u001b[0m\n",
            "\u001b[0;32m/usr/local/lib/python3.6/dist-packages/torch/serialization.py\u001b[0m in \u001b[0;36msave\u001b[0;34m(obj, f, pickle_module, pickle_protocol, _use_new_zipfile_serialization)\u001b[0m\n\u001b[1;32m    367\u001b[0m             \u001b[0;32mreturn\u001b[0m\u001b[0;34m\u001b[0m\u001b[0;34m\u001b[0m\u001b[0m\n\u001b[1;32m    368\u001b[0m \u001b[0;34m\u001b[0m\u001b[0m\n\u001b[0;32m--> 369\u001b[0;31m     \u001b[0;32mwith\u001b[0m \u001b[0m_open_file_like\u001b[0m\u001b[0;34m(\u001b[0m\u001b[0mf\u001b[0m\u001b[0;34m,\u001b[0m \u001b[0;34m'wb'\u001b[0m\u001b[0;34m)\u001b[0m \u001b[0;32mas\u001b[0m \u001b[0mopened_file\u001b[0m\u001b[0;34m:\u001b[0m\u001b[0;34m\u001b[0m\u001b[0;34m\u001b[0m\u001b[0m\n\u001b[0m\u001b[1;32m    370\u001b[0m         \u001b[0m_legacy_save\u001b[0m\u001b[0;34m(\u001b[0m\u001b[0mobj\u001b[0m\u001b[0;34m,\u001b[0m \u001b[0mopened_file\u001b[0m\u001b[0;34m,\u001b[0m \u001b[0mpickle_module\u001b[0m\u001b[0;34m,\u001b[0m \u001b[0mpickle_protocol\u001b[0m\u001b[0;34m)\u001b[0m\u001b[0;34m\u001b[0m\u001b[0;34m\u001b[0m\u001b[0m\n\u001b[1;32m    371\u001b[0m \u001b[0;34m\u001b[0m\u001b[0m\n",
            "\u001b[0;32m/usr/local/lib/python3.6/dist-packages/torch/serialization.py\u001b[0m in \u001b[0;36m_open_file_like\u001b[0;34m(name_or_buffer, mode)\u001b[0m\n\u001b[1;32m    232\u001b[0m \u001b[0;32mdef\u001b[0m \u001b[0m_open_file_like\u001b[0m\u001b[0;34m(\u001b[0m\u001b[0mname_or_buffer\u001b[0m\u001b[0;34m,\u001b[0m \u001b[0mmode\u001b[0m\u001b[0;34m)\u001b[0m\u001b[0;34m:\u001b[0m\u001b[0;34m\u001b[0m\u001b[0;34m\u001b[0m\u001b[0m\n\u001b[1;32m    233\u001b[0m     \u001b[0;32mif\u001b[0m \u001b[0m_is_path\u001b[0m\u001b[0;34m(\u001b[0m\u001b[0mname_or_buffer\u001b[0m\u001b[0;34m)\u001b[0m\u001b[0;34m:\u001b[0m\u001b[0;34m\u001b[0m\u001b[0;34m\u001b[0m\u001b[0m\n\u001b[0;32m--> 234\u001b[0;31m         \u001b[0;32mreturn\u001b[0m \u001b[0m_open_file\u001b[0m\u001b[0;34m(\u001b[0m\u001b[0mname_or_buffer\u001b[0m\u001b[0;34m,\u001b[0m \u001b[0mmode\u001b[0m\u001b[0;34m)\u001b[0m\u001b[0;34m\u001b[0m\u001b[0;34m\u001b[0m\u001b[0m\n\u001b[0m\u001b[1;32m    235\u001b[0m     \u001b[0;32melse\u001b[0m\u001b[0;34m:\u001b[0m\u001b[0;34m\u001b[0m\u001b[0;34m\u001b[0m\u001b[0m\n\u001b[1;32m    236\u001b[0m         \u001b[0;32mif\u001b[0m \u001b[0;34m'w'\u001b[0m \u001b[0;32min\u001b[0m \u001b[0mmode\u001b[0m\u001b[0;34m:\u001b[0m\u001b[0;34m\u001b[0m\u001b[0;34m\u001b[0m\u001b[0m\n",
            "\u001b[0;32m/usr/local/lib/python3.6/dist-packages/torch/serialization.py\u001b[0m in \u001b[0;36m__init__\u001b[0;34m(self, name, mode)\u001b[0m\n\u001b[1;32m    213\u001b[0m \u001b[0;32mclass\u001b[0m \u001b[0m_open_file\u001b[0m\u001b[0;34m(\u001b[0m\u001b[0m_opener\u001b[0m\u001b[0;34m)\u001b[0m\u001b[0;34m:\u001b[0m\u001b[0;34m\u001b[0m\u001b[0;34m\u001b[0m\u001b[0m\n\u001b[1;32m    214\u001b[0m     \u001b[0;32mdef\u001b[0m \u001b[0m__init__\u001b[0m\u001b[0;34m(\u001b[0m\u001b[0mself\u001b[0m\u001b[0;34m,\u001b[0m \u001b[0mname\u001b[0m\u001b[0;34m,\u001b[0m \u001b[0mmode\u001b[0m\u001b[0;34m)\u001b[0m\u001b[0;34m:\u001b[0m\u001b[0;34m\u001b[0m\u001b[0;34m\u001b[0m\u001b[0m\n\u001b[0;32m--> 215\u001b[0;31m         \u001b[0msuper\u001b[0m\u001b[0;34m(\u001b[0m\u001b[0m_open_file\u001b[0m\u001b[0;34m,\u001b[0m \u001b[0mself\u001b[0m\u001b[0;34m)\u001b[0m\u001b[0;34m.\u001b[0m\u001b[0m__init__\u001b[0m\u001b[0;34m(\u001b[0m\u001b[0mopen\u001b[0m\u001b[0;34m(\u001b[0m\u001b[0mname\u001b[0m\u001b[0;34m,\u001b[0m \u001b[0mmode\u001b[0m\u001b[0;34m)\u001b[0m\u001b[0;34m)\u001b[0m\u001b[0;34m\u001b[0m\u001b[0;34m\u001b[0m\u001b[0m\n\u001b[0m\u001b[1;32m    216\u001b[0m \u001b[0;34m\u001b[0m\u001b[0m\n\u001b[1;32m    217\u001b[0m     \u001b[0;32mdef\u001b[0m \u001b[0m__exit__\u001b[0m\u001b[0;34m(\u001b[0m\u001b[0mself\u001b[0m\u001b[0;34m,\u001b[0m \u001b[0;34m*\u001b[0m\u001b[0margs\u001b[0m\u001b[0;34m)\u001b[0m\u001b[0;34m:\u001b[0m\u001b[0;34m\u001b[0m\u001b[0;34m\u001b[0m\u001b[0m\n",
            "\u001b[0;31mKeyboardInterrupt\u001b[0m: "
          ]
        }
      ]
    },
    {
      "cell_type": "code",
      "metadata": {
        "id": "XyBpgJEURW3v",
        "colab_type": "code",
        "colab": {}
      },
      "source": [
        "train_loader, val_loader, test_loader = get_data_loader(20)\n",
        "for i, data in enumerate(train_loader, 0):\n",
        "  imgs,labels = data\n",
        "  print(i,imgs.shape,labels)\n",
        "  if i==3: break\n",
        "\n",
        "for i, data in enumerate(val_loader, 0):\n",
        "  imgs,labels = data\n",
        "  print(i,imgs.shape,labels)\n",
        "  if i==3: break\n",
        "\n",
        "for i, data in enumerate(test_loader, 0):\n",
        "  imgs,labels = data\n",
        "  print(i,imgs.shape,labels)\n",
        "  if i==3: break  "
      ],
      "execution_count": null,
      "outputs": []
    },
    {
      "cell_type": "code",
      "metadata": {
        "id": "-Jv1tx3CAzWt",
        "colab_type": "code",
        "colab": {}
      },
      "source": [
        "class AlexClassifier(nn.Module):\n",
        "    def __init__(self):\n",
        "        super(AlexClassifier, self).__init__()\n",
        "        self.name = \"AlexNet\"\n",
        "        self.fc1 = nn.Linear(256 * 6 * 6, 450)\n",
        "        self.fc2 = nn.Linear(450, 150)\n",
        "\n",
        "    def forward(self, x):\n",
        "        x = x.view(-1, 256 * 6 * 6) #flatten feature data\n",
        "        x = F.relu(self.fc1(x))\n",
        "        x = self.fc2(x)\n",
        "        return x"
      ],
      "execution_count": null,
      "outputs": []
    },
    {
      "cell_type": "code",
      "metadata": {
        "id": "TA8RTXozpQ-F",
        "colab_type": "code",
        "colab": {}
      },
      "source": [
        "class VggClassifier(nn.Module):\n",
        "    def __init__(self):\n",
        "        super(VggClassifier, self).__init__()\n",
        "        self.name = \"Vgg16\"\n",
        "        self.fc1 = nn.Linear(7 * 7 * 512, 450)\n",
        "        self.fc3 = nn.Linear(450, 150)\n",
        "\n",
        "    def forward(self, x):\n",
        "        x = x.view(-1, 7 * 7 * 512) #flatten feature data\n",
        "        x = F.relu(self.fc1(x))\n",
        "        x = self.fc2(x)\n",
        "        return x"
      ],
      "execution_count": null,
      "outputs": []
    },
    {
      "cell_type": "code",
      "metadata": {
        "id": "a6H_fy7mcTlL",
        "colab_type": "code",
        "colab": {}
      },
      "source": [
        "def get_accuracy(model, loader):\n",
        "\n",
        "    correct = 0\n",
        "    total = 0\n",
        "    for imgs, labels in loader:\n",
        "        \n",
        "    #############################################\n",
        "        #To Enable GPU Usage\n",
        "        if use_cuda and torch.cuda.is_available():\n",
        "           imgs = imgs.cuda()\n",
        "           labels = labels.cuda()\n",
        "    #############################################\n",
        "\n",
        "        output = model(imgs)\n",
        "        \n",
        "        #select index with maximum prediction score\n",
        "        pred = output.max(1, keepdim=True)[1]\n",
        "        correct += pred.eq(labels.view_as(pred)).sum().item()\n",
        "        total += imgs.shape[0]\n",
        "    return correct / total\n",
        "\n",
        "def train(model, train_loader, val_loader, batch_size=64, num_epochs=1, learning_rate=0.01, save_data_path=\"\"):\n",
        "    criterion = nn.CrossEntropyLoss()\n",
        "    optimizer = optim.SGD(model.parameters(), lr=learning_rate, momentum=0.9)\n",
        "\n",
        "    iters, losses, train_acc, val_acc = [], [], [], []\n",
        "    bss, lrs, times = [], [], []\n",
        "\n",
        "    # training\n",
        "    n = 0 # the number of iterations\n",
        "    start_epoch = 0 \n",
        "    end_epoch = num_epochs\n",
        "\n",
        "    if save_data_path != \"\":\n",
        "      save_data = torch.load(save_data_path)\n",
        "      start_epoch = save_data[\"epoch\"]+1\n",
        "      end_epoch = start_epoch + num_epochs\n",
        "      iters = save_data[\"iters\"]\n",
        "      n = iters[-1]+1\n",
        "      print(\"n = {}\".format(n))\n",
        "      losses = save_data[\"losses\"]\n",
        "      train_acc = save_data[\"train_acc\"]\n",
        "      val_acc = save_data[\"val_acc\"]\n",
        "      model.load_state_dict(save_data[\"state\"])\n",
        "      bss = save_data[\"bss\"]\n",
        "      lrs = save_data[\"lrs\"]\n",
        "      times = save_data[\"times\"]\n",
        "\n",
        "    start_time = last_time = time.time()    \n",
        "\n",
        "    for epoch in range(start_epoch, end_epoch):\n",
        "        for imgs, labels in iter(train_loader):\n",
        "              \n",
        "            #############################################\n",
        "            #To Enable GPU Usage\n",
        "            if use_cuda and torch.cuda.is_available():\n",
        "              imgs = imgs.cuda()\n",
        "              labels = labels.cuda()\n",
        "            #############################################\n",
        "\n",
        "            out = model(imgs)             # forward pass\n",
        "\n",
        "            loss = criterion(out, labels) # compute the total loss\n",
        "            loss.backward()               # backward pass (compute parameter updates)\n",
        "            optimizer.step()              # make the updates for each parameter\n",
        "            optimizer.zero_grad()         # a clean up step for PyTorch\n",
        "            \n",
        "            # save the current training information\n",
        "            iters.append(n)\n",
        "            losses.append(float(loss)/batch_size)             # compute *average* loss\n",
        "            train_acc.append(get_accuracy(model, train_loader)) # compute training accuracy \n",
        "            val_acc.append(get_accuracy(model, val_loader))   # compute validation accuracy\n",
        "            \n",
        "            n += 1\n",
        "        \n",
        "        bss.append(batch_size)                            \n",
        "        lrs.append(learning_rate)     \n",
        "        times.append(time.time()-last_time)      \n",
        "        last_time=time.time() \n",
        "        model_path = get_model_name(epoch=epoch+1,batch_size=batch_size,learning_rate=learning_rate)\n",
        "        save_data = {\"epoch\":epoch,\n",
        "                        \"iters\":iters,\n",
        "                        \"losses\":losses,\n",
        "                        \"train_acc\":train_acc,\n",
        "                        \"val_acc\":val_acc,\n",
        "                        \"times\":time.time()-start_time,\n",
        "                        \"state\":model.state_dict(),\n",
        "                        \"bss\":bss,\n",
        "                        \"lrs\":lrs,\n",
        "                        \"times\":times}\n",
        "        torch.save(save_data, model_path)\n",
        "        end_time = time.time()\n",
        "        elapsed_time = end_time - start_time\n",
        "        print(\"Epoch %d; Loss %f; Train Acc %f; Val Acc %f; Time %f;\" % (epoch+1, loss, train_acc[-1], val_acc[-1], sum(times)))\n",
        "\n",
        "    end_time = time.time()\n",
        "    elapsed_time = end_time - start_time\n",
        "\n",
        "    # plotting\n",
        "    plt.title(\"Training Curve\")\n",
        "    plt.plot(iters, losses, label=\"Train\")\n",
        "    plt.xlabel(\"Iterations\")\n",
        "    plt.ylabel(\"Loss\")\n",
        "    plt.show()\n",
        "\n",
        "    plt.title(\"Training Curve\")\n",
        "    plt.plot(iters, train_acc, label=\"Train\")\n",
        "    plt.plot(iters, val_acc, label=\"Validation\")\n",
        "    plt.xlabel(\"Iterations\")\n",
        "    plt.ylabel(\"Training Accuracy\")\n",
        "    plt.legend(loc='best')\n",
        "    plt.show()\n",
        "\n",
        "    print(\"Final Training Accuracy: {}\".format(train_acc[-1]))\n",
        "    print(\"Final Validation Accuracy: {}\".format(val_acc[-1]))\n",
        "    print(\"Total time elapsed: {:.2f} seconds\".format(sum(times)))"
      ],
      "execution_count": null,
      "outputs": []
    },
    {
      "cell_type": "code",
      "metadata": {
        "id": "_E_StkKvevV3",
        "colab_type": "code",
        "colab": {}
      },
      "source": [
        "def get_saved_data_info(saved_data_path,item = \"all\"):\n",
        "  if saved_data_path != \"\":\n",
        "      save_data = torch.load(saved_data_path)\n",
        "      if item != \"all\":\n",
        "        print(item+\" is \"+save_data[item])\n",
        "        return\n",
        "      for item in save_data:\n",
        "        if item != \"state\": print(item+\"\\n\",save_data[item])"
      ],
      "execution_count": null,
      "outputs": []
    },
    {
      "cell_type": "code",
      "metadata": {
        "id": "oDIfizcPmX2y",
        "colab_type": "code",
        "colab": {}
      },
      "source": [
        "#Alexnet\n",
        "def featursDataLoaders(train_loader,val_loader,test_loader):\n",
        "  !mkdir ./dataset/features\n",
        "  !rm -rf ./dataset/features/*\n",
        "  # i=0\n",
        "  train_features, val_features, test_features = [],[],[]\n",
        "  \n",
        "  for i,data in enumerate(train_loader,0):\n",
        "    imgs, labels = data\n",
        "    torch.save((alexnet.features(imgs)).detach().numpy(),\"./dataset/features/train_features_{}\".format(i))\n",
        "  \n",
        "  for i,data in enumerate(val_loader,0):\n",
        "    imgs, labels = data\n",
        "    torch.save((alexnet.features(imgs)).detach().numpy(),\"./dataset/features/val_features_{}\".format(i))\n",
        "\n",
        "  for i,data in enumerate(test_loader,0):\n",
        "    imgs, labels = data\n",
        "    torch.save((alexnet.features(imgs)).detach().numpy(),\"./dataset/features/test_features_{}\".format(i))\n"
      ],
      "execution_count": null,
      "outputs": []
    },
    {
      "cell_type": "code",
      "metadata": {
        "id": "-upDdcoCu_1G",
        "colab_type": "code",
        "colab": {}
      },
      "source": [
        "def featursDataLoaders(train_loader,val_loader,test_loader):\n",
        "  !mkdir ./dataset/features\n",
        "  !rm -rf ./dataset/features/*\n",
        "  # i=0\n",
        "  train_features, val_features, test_features = [],[],[]\n",
        "  \n",
        "  for i,data in enumerate(train_loader,0):\n",
        "    imgs, labels = data\n",
        "    torch.save((vggnet.features(imgs)).detach().numpy(),\"./dataset/features/train_features_{}\".format(i))\n",
        "  \n",
        "  for i,data in enumerate(val_loader,0):\n",
        "    imgs, labels = data\n",
        "    torch.save((vggnet.features(imgs)).detach().numpy(),\"./dataset/features/val_features_{}\".format(i))\n",
        "\n",
        "  for i,data in enumerate(test_loader,0):\n",
        "    imgs, labels = data\n",
        "    torch.save((vggnet.features(imgs)).detach().numpy(),\"./dataset/features/test_features_{}\".format(i))\n"
      ],
      "execution_count": null,
      "outputs": []
    },
    {
      "cell_type": "code",
      "metadata": {
        "id": "ov7Fe_PEezvH",
        "colab_type": "code",
        "colab": {}
      },
      "source": [
        "#read file from paused location\n",
        "model_path = get_model_name(batch_size=512, learning_rate=0.005, epoch=16)\n",
        "get_saved_data_info(model_path)"
      ],
      "execution_count": null,
      "outputs": []
    },
    {
      "cell_type": "code",
      "metadata": {
        "id": "6ZkwZPw1sMzL",
        "colab_type": "code",
        "colab": {
          "base_uri": "https://localhost:8080/",
          "height": 640
        },
        "outputId": "0f8c2d9e-55c1-49e3-8555-6fe6ba2a06bd"
      },
      "source": [
        "model = PokemonClassifier()\n",
        "train(model, train_loader, val_loader, batch_size=128, num_epochs=0, learning_rate=0.005, save_data_path=model_path)"
      ],
      "execution_count": null,
      "outputs": [
        {
          "output_type": "stream",
          "text": [
            "n = 426\n"
          ],
          "name": "stdout"
        },
        {
          "output_type": "display_data",
          "data": {
            "image/png": "[encoded data removed]",
            "text/plain": [
              "<Figure size 432x288 with 1 Axes>"
            ]
          },
          "metadata": {
            "tags": [],
            "needs_background": "light"
          }
        },
        {
          "output_type": "display_data",
          "data": {
            "image/png": "[encoded data removed]",
            "text/plain": [
              "<Figure size 432x288 with 1 Axes>"
            ]
          },
          "metadata": {
            "tags": [],
            "needs_background": "light"
          }
        },
        {
          "output_type": "stream",
          "text": [
            "Final Training Accuracy: 0.2450872157209097\n",
            "Final Validation Accuracy: 0.17917448405253283\n",
            "Total time elapsed: 0.00 seconds\n"
          ],
          "name": "stdout"
        }
      ]
    },
    {
      "cell_type": "code",
      "metadata": {
        "id": "DFkgabk1Bc5A",
        "colab_type": "code",
        "colab": {}
      },
      "source": [
        "#Alexnet\n",
        "use_cuda = True\n",
        "\n",
        "model = AlexClassifier()\n",
        "\n",
        "if use_cuda and torch.cuda.is_available():\n",
        "  model.cuda()\n",
        "  print('CUDA is available!  Training on GPU ...')\n",
        "else:\n",
        "  print('CUDA is not available.  Training on CPU ...')\n",
        "\n",
        "#proper model\n",
        "train_loader, val_loader, test_loader = get_data_loader(256)\n",
        "train(model, train_loader, val_loader, batch_size=256, learning_rate = 0.005, num_epochs=30)"
      ],
      "execution_count": null,
      "outputs": []
    },
    {
      "cell_type": "code",
      "metadata": {
        "id": "1DZjoeoBCgEd",
        "colab_type": "code",
        "colab": {}
      },
      "source": [
        "#Alexnet start from pause\n",
        "use_cuda = True\n",
        "\n",
        "model = AlexClassifier()\n",
        "\n",
        "if use_cuda and torch.cuda.is_available():\n",
        "  model.cuda()\n",
        "  print('CUDA is available!  Training on GPU ...')\n",
        "else:\n",
        "  print('CUDA is not available.  Training on CPU ...')\n",
        "\n",
        "#proper model\n",
        "model_path = get_model_name(batch_size=512, epoch=23, learning_rate=0.005)\n",
        "train_loader, val_loader, test_loader = get_data_loader(512)\n",
        "train(model, train_loader, val_loader, batch_size=512, num_epochs=7, learning_rate=0.005, save_data_path=model_path)"
      ],
      "execution_count": null,
      "outputs": []
    },
    {
      "cell_type": "code",
      "metadata": {
        "id": "bg878oFKiUd0",
        "colab_type": "code",
        "colab": {}
      },
      "source": [
        "model = AlexClassifier()\n",
        "train(model, train_loader, val_loader, batch_size=512, num_epochs=15, learning_rate=0.005, save_data_path=model_path)"
      ],
      "execution_count": null,
      "outputs": []
    },
    {
      "cell_type": "code",
      "metadata": {
        "id": "HZiUFTBpYGM3",
        "colab_type": "code",
        "colab": {
          "base_uri": "https://localhost:8080/",
          "height": 1000
        },
        "outputId": "eecd6513-eae4-4355-872a-b6dd33ba0759"
      },
      "source": [
        "#Vgg16\n",
        "use_cuda = True\n",
        "\n",
        "model = VggClassifier()\n",
        "\n",
        "if use_cuda and torch.cuda.is_available():\n",
        "  model.cuda()\n",
        "  print('CUDA is available!  Training on GPU ...')\n",
        "else:\n",
        "  print('CUDA is not available.  Training on CPU ...')\n",
        "\n",
        "#proper model\n",
        "train_loader, val_loader, test_loader = get_data_loader(512)\n",
        "train(model, train_loader, val_loader, batch_size=512, learning_rate = 0.005, num_epochs=30)"
      ],
      "execution_count": null,
      "outputs": [
        {
          "output_type": "stream",
          "text": [
            "CUDA is available!  Training on GPU ...\n",
            "Epoch 1; Loss 4.809630; Train Acc 0.195503; Val Acc 0.112561; Time 92.883147;\n",
            "Epoch 2; Loss 3.862107; Train Acc 0.519876; Val Acc 0.350734; Time 184.642635;\n",
            "Epoch 3; Loss 2.734133; Train Acc 0.790160; Val Acc 0.582382; Time 275.598507;\n",
            "Epoch 4; Loss 1.775542; Train Acc 0.891984; Val Acc 0.678630; Time 367.691848;\n",
            "Epoch 5; Loss 1.197604; Train Acc 0.930433; Val Acc 0.732463; Time 459.218887;\n",
            "Epoch 6; Loss 0.958794; Train Acc 0.954383; Val Acc 0.748777; Time 548.097147;\n",
            "Epoch 7; Loss 0.585680; Train Acc 0.969697; Val Acc 0.763458; Time 636.588670;\n",
            "Epoch 8; Loss 0.438741; Train Acc 0.979146; Val Acc 0.765090; Time 728.808830;\n",
            "Epoch 9; Loss 0.396333; Train Acc 0.985663; Val Acc 0.781403; Time 816.597055;\n",
            "Epoch 10; Loss 0.302245; Train Acc 0.989736; Val Acc 0.781403; Time 904.356159;\n",
            "Epoch 11; Loss 0.226823; Train Acc 0.992669; Val Acc 0.786297; Time 995.225996;\n",
            "Epoch 12; Loss 0.247090; Train Acc 0.995112; Val Acc 0.794454; Time 1083.645389;\n",
            "Epoch 13; Loss 0.196686; Train Acc 0.995112; Val Acc 0.791191; Time 1172.559401;\n",
            "Epoch 14; Loss 0.154395; Train Acc 0.996416; Val Acc 0.786297; Time 1261.288038;\n",
            "Epoch 15; Loss 0.144511; Train Acc 0.997719; Val Acc 0.799347; Time 1352.044335;\n",
            "Epoch 16; Loss 0.119118; Train Acc 0.998697; Val Acc 0.796085; Time 1440.013357;\n",
            "Epoch 17; Loss 0.102879; Train Acc 0.998860; Val Acc 0.791191; Time 1528.487794;\n",
            "Epoch 18; Loss 0.107661; Train Acc 0.998697; Val Acc 0.794454; Time 1619.636250;\n",
            "Epoch 19; Loss 0.098718; Train Acc 0.999185; Val Acc 0.796085; Time 1709.266943;\n",
            "Epoch 20; Loss 0.083721; Train Acc 0.999185; Val Acc 0.791191; Time 1800.278825;\n",
            "Epoch 21; Loss 0.070036; Train Acc 0.999022; Val Acc 0.791191; Time 1894.218177;\n",
            "Epoch 22; Loss 0.060779; Train Acc 0.999185; Val Acc 0.794454; Time 1990.609827;\n",
            "Epoch 23; Loss 0.064581; Train Acc 0.999022; Val Acc 0.791191; Time 2087.783073;\n",
            "Epoch 24; Loss 0.063141; Train Acc 0.999185; Val Acc 0.796085; Time 2186.137214;\n",
            "Epoch 25; Loss 0.061043; Train Acc 0.999185; Val Acc 0.799347; Time 2287.160174;\n",
            "Epoch 26; Loss 0.077882; Train Acc 0.999185; Val Acc 0.797716; Time 2385.105234;\n",
            "Epoch 27; Loss 0.051737; Train Acc 0.999348; Val Acc 0.800979; Time 2483.723519;\n",
            "Epoch 28; Loss 0.045993; Train Acc 0.999022; Val Acc 0.800979; Time 2585.813451;\n",
            "Epoch 29; Loss 0.042252; Train Acc 0.999185; Val Acc 0.794454; Time 2683.717859;\n",
            "Epoch 30; Loss 0.041773; Train Acc 0.999185; Val Acc 0.787928; Time 2782.471716;\n"
          ],
          "name": "stdout"
        },
        {
          "output_type": "display_data",
          "data": {
            "image/png": "[encoded data removed]",
            "text/plain": [
              "<Figure size 432x288 with 1 Axes>"
            ]
          },
          "metadata": {
            "tags": [],
            "needs_background": "light"
          }
        },
        {
          "output_type": "display_data",
          "data": {
            "image/png": "[encoded data removed]",
            "text/plain": [
              "<Figure size 432x288 with 1 Axes>"
            ]
          },
          "metadata": {
            "tags": [],
            "needs_background": "light"
          }
        },
        {
          "output_type": "stream",
          "text": [
            "Final Training Accuracy: 0.9991854024112089\n",
            "Final Validation Accuracy: 0.7879282218597063\n",
            "Total time elapsed: 2782.47 seconds\n"
          ],
          "name": "stdout"
        }
      ]
    },
    {
      "cell_type": "code",
      "metadata": {
        "id": "L8gnQK3M0qpK",
        "colab_type": "code",
        "colab": {
          "base_uri": "https://localhost:8080/",
          "height": 1000
        },
        "outputId": "f494095d-891f-4c28-de19-a1f515cbb6b1"
      },
      "source": [
        "#Vgg16 bs=256\n",
        "use_cuda = True\n",
        "\n",
        "model = VggClassifier()\n",
        "\n",
        "if use_cuda and torch.cuda.is_available():\n",
        "  model.cuda()\n",
        "  print('CUDA is available!  Training on GPU ...')\n",
        "else:\n",
        "  print('CUDA is not available.  Training on CPU ...')\n",
        "\n",
        "#proper model\n",
        "train_loader, val_loader, test_loader = get_data_loader(256)\n",
        "train(model, train_loader, val_loader, batch_size=256, learning_rate = 0.005, num_epochs=30)"
      ],
      "execution_count": null,
      "outputs": [
        {
          "output_type": "stream",
          "text": [
            "CUDA is available!  Training on GPU ...\n",
            "Epoch 1; Loss 4.259910; Train Acc 0.489247; Val Acc 0.311582; Time 190.775956;\n",
            "Epoch 2; Loss 2.153081; Train Acc 0.831378; Val Acc 0.610114; Time 378.135591;\n",
            "Epoch 3; Loss 1.010286; Train Acc 0.934018; Val Acc 0.709625; Time 559.816715;\n",
            "Epoch 4; Loss 0.600029; Train Acc 0.971815; Val Acc 0.750408; Time 744.349365;\n",
            "Epoch 5; Loss 0.334020; Train Acc 0.984360; Val Acc 0.755302; Time 923.302504;\n",
            "Epoch 6; Loss 0.252310; Train Acc 0.993646; Val Acc 0.776509; Time 1101.740224;\n",
            "Epoch 7; Loss 0.200015; Train Acc 0.996090; Val Acc 0.776509; Time 1280.497129;\n",
            "Epoch 8; Loss 0.159339; Train Acc 0.997067; Val Acc 0.778140; Time 1464.523110;\n",
            "Epoch 9; Loss 0.121675; Train Acc 0.998045; Val Acc 0.781403; Time 1657.059508;\n",
            "Epoch 10; Loss 0.082639; Train Acc 0.998697; Val Acc 0.783034; Time 1847.909432;\n",
            "Epoch 11; Loss 0.060000; Train Acc 0.999022; Val Acc 0.784666; Time 2042.004109;\n",
            "Epoch 12; Loss 0.065745; Train Acc 0.998534; Val Acc 0.791191; Time 2237.379822;\n",
            "Epoch 13; Loss 0.046166; Train Acc 0.999022; Val Acc 0.787928; Time 2429.130034;\n",
            "Epoch 14; Loss 0.054909; Train Acc 0.998860; Val Acc 0.792822; Time 2622.641988;\n",
            "Epoch 15; Loss 0.040619; Train Acc 0.999022; Val Acc 0.791191; Time 2807.419436;\n",
            "Epoch 16; Loss 0.036913; Train Acc 0.999022; Val Acc 0.796085; Time 2999.984479;\n",
            "Epoch 17; Loss 0.030219; Train Acc 0.999185; Val Acc 0.791191; Time 3195.495257;\n",
            "Epoch 18; Loss 0.037994; Train Acc 0.999022; Val Acc 0.794454; Time 3386.448563;\n",
            "Epoch 19; Loss 0.035438; Train Acc 0.998860; Val Acc 0.796085; Time 3575.694540;\n",
            "Epoch 20; Loss 0.027437; Train Acc 0.999185; Val Acc 0.792822; Time 3758.608462;\n",
            "Epoch 21; Loss 0.023612; Train Acc 0.998697; Val Acc 0.800979; Time 3941.810192;\n",
            "Epoch 22; Loss 0.025998; Train Acc 0.998534; Val Acc 0.796085; Time 4122.872122;\n",
            "Epoch 23; Loss 0.023339; Train Acc 0.999348; Val Acc 0.797716; Time 4298.898038;\n",
            "Epoch 24; Loss 0.028689; Train Acc 0.999185; Val Acc 0.794454; Time 4479.140072;\n",
            "Epoch 25; Loss 0.027200; Train Acc 0.998860; Val Acc 0.800979; Time 4656.065008;\n",
            "Epoch 26; Loss 0.018956; Train Acc 0.999022; Val Acc 0.792822; Time 4835.734062;\n",
            "Epoch 27; Loss 0.027372; Train Acc 0.999022; Val Acc 0.799347; Time 5015.105304;\n",
            "Epoch 28; Loss 0.015612; Train Acc 0.998860; Val Acc 0.792822; Time 5190.514998;\n",
            "Epoch 29; Loss 0.017419; Train Acc 0.999022; Val Acc 0.799347; Time 5368.999561;\n",
            "Epoch 30; Loss 0.023378; Train Acc 0.999185; Val Acc 0.800979; Time 5544.722753;\n"
          ],
          "name": "stdout"
        },
        {
          "output_type": "display_data",
          "data": {
            "image/png": "[encoded data removed]",
            "text/plain": [
              "<Figure size 432x288 with 1 Axes>"
            ]
          },
          "metadata": {
            "tags": [],
            "needs_background": "light"
          }
        },
        {
          "output_type": "display_data",
          "data": {
            "image/png": "[encoded data removed]",
            "text/plain": [
              "<Figure size 432x288 with 1 Axes>"
            ]
          },
          "metadata": {
            "tags": [],
            "needs_background": "light"
          }
        },
        {
          "output_type": "stream",
          "text": [
            "Final Training Accuracy: 0.9991854024112089\n",
            "Final Validation Accuracy: 0.800978792822186\n",
            "Total time elapsed: 5544.72 seconds\n"
          ],
          "name": "stdout"
        }
      ]
    },
    {
      "cell_type": "code",
      "metadata": {
        "id": "AifNlZpiBwdl",
        "colab_type": "code",
        "colab": {}
      },
      "source": [
        "#Alexnet start from pause\n",
        "use_cuda = True\n",
        "\n",
        "model = AlexClassifier()\n",
        "\n",
        "if use_cuda and torch.cuda.is_available():\n",
        "  model.cuda()\n",
        "  print('CUDA is available!  Training on GPU ...')\n",
        "else:\n",
        "  print('CUDA is not available.  Training on CPU ...')\n",
        "\n",
        "#proper model\n",
        "model_path = get_model_name(batch_size=512, epoch=16, learning_rate=0.005)\n",
        "train_loader, val_loader, test_loader = get_data_loader(512)\n",
        "train(model, train_loader, val_loader, batch_size=512, num_epochs=14, learning_rate=0.005, save_data_path=model_path)"
      ],
      "execution_count": null,
      "outputs": []
    }
  ]
}